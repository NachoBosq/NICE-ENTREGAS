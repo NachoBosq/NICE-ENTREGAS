{
 "cells": [
  {
   "cell_type": "markdown",
   "metadata": {},
   "source": [
    "# INFORMACIÓN DEL PROYECTO"
   ]
  },
  {
   "cell_type": "markdown",
   "metadata": {},
   "source": [
    "### TÍTULO"
   ]
  },
  {
   "cell_type": "code",
   "execution_count": null,
   "metadata": {},
   "outputs": [],
   "source": [
    "#Analisis exploratorio de desercion de clientes de BestCycling"
   ]
  },
  {
   "cell_type": "markdown",
   "metadata": {},
   "source": [
    "### TEMA"
   ]
  },
  {
   "cell_type": "code",
   "execution_count": null,
   "metadata": {},
   "outputs": [],
   "source": [
    "#BestCycling es una empresa de spinning donde los clientes se suscriben a una aplicacion que da acceso a multiples contenidos.\n",
    "#Un gran porcentaje de la gente que hace deporte eventualmente se lo deja, la razon de este EDA es averiguar la tasa de abandono de la actividad fisica en BestCycling."
   ]
  },
  {
   "cell_type": "markdown",
   "metadata": {},
   "source": [
    "### HIPÓTESIS"
   ]
  },
  {
   "cell_type": "markdown",
   "metadata": {},
   "source": [
    "Define aquí lo que será la hipótesis de tu proyecto.\n",
    "Puede que tengas más de una, pero tu proyecto lo harás teniendo una principal hipótesis."
   ]
  },
  {
   "cell_type": "code",
   "execution_count": null,
   "metadata": {},
   "outputs": [],
   "source": [
    "#La hipotesis principal es averiguar las tasa de abandono/desercion del spinning en esta empresa,\n",
    "#analizar multiples datos, buscar correlaciones entre si y buscar varias soluciones."
   ]
  },
  {
   "cell_type": "code",
   "execution_count": null,
   "metadata": {},
   "outputs": [],
   "source": [
    "#BestCycling realiza uno de los eventos de spinning mas grandes del mundo. Mi objetivo es analizar con los pocos datos entregados el impacto del evento\n",
    "#sobre nuevos clientes,su evolucion en el tiempo y mucho mas."
   ]
  },
  {
   "cell_type": "markdown",
   "metadata": {},
   "source": [
    "## OBTENCIÓN DE LOS DATOS"
   ]
  },
  {
   "cell_type": "markdown",
   "metadata": {},
   "source": [
    "### DATASETS Y FUENTES ALTERNATIVAS DE DATOS"
   ]
  },
  {
   "cell_type": "markdown",
   "metadata": {},
   "source": [
    "Incluye aquí una breve descripción del dataset o datasets de los que partirás para poder evaluar tu hipótesis. <br>\n",
    "También incluye el origen de estos datos y su fuente."
   ]
  },
  {
   "cell_type": "code",
   "execution_count": null,
   "metadata": {},
   "outputs": [],
   "source": [
    "#Fuente de datos:\n",
    "#1 - Datos internos de la empresa\n",
    "#2 - Datos market cap del sector del ciclo indoor/spinning\n",
    "#3 - Ejemplos de Data Base de Churn Prediction/Rate\n",
    "#y mucho mas"
   ]
  },
  {
   "cell_type": "markdown",
   "metadata": {},
   "source": [
    "web scrapping de la web de airbnb por barrios en dos semanas diferentes y separadas en el tiempo para intentar tener la mayoria de lugares y sacar una media\n",
    "csv precio alquiler vivienda en ciudad de valencia, web ayuntamiento de valencia"
   ]
  },
  {
   "cell_type": "markdown",
   "metadata": {},
   "source": [
    "Muestra mediante un head() los principales datasets con los que vas a trabajar"
   ]
  },
  {
   "cell_type": "code",
   "execution_count": 1,
   "metadata": {},
   "outputs": [
    {
     "data": {
      "text/html": [
       "<div>\n",
       "<style scoped>\n",
       "    .dataframe tbody tr th:only-of-type {\n",
       "        vertical-align: middle;\n",
       "    }\n",
       "\n",
       "    .dataframe tbody tr th {\n",
       "        vertical-align: top;\n",
       "    }\n",
       "\n",
       "    .dataframe thead th {\n",
       "        text-align: right;\n",
       "    }\n",
       "</style>\n",
       "<table border=\"1\" class=\"dataframe\">\n",
       "  <thead>\n",
       "    <tr style=\"text-align: right;\">\n",
       "      <th></th>\n",
       "      <th>id</th>\n",
       "      <th>total</th>\n",
       "      <th>payed</th>\n",
       "      <th>promo</th>\n",
       "      <th>payment_method</th>\n",
       "      <th>start_date</th>\n",
       "      <th>end_date</th>\n",
       "      <th>membership_start_date</th>\n",
       "      <th>membership_end_date</th>\n",
       "      <th>days</th>\n",
       "      <th>weeks</th>\n",
       "      <th>months</th>\n",
       "      <th>years</th>\n",
       "      <th>membership_id</th>\n",
       "      <th>plan_extension_id</th>\n",
       "      <th>user_id</th>\n",
       "      <th>order_id</th>\n",
       "      <th>plan_id</th>\n",
       "      <th>total_membership</th>\n",
       "      <th>lifetime_start</th>\n",
       "      <th>lifetime_end</th>\n",
       "      <th>created_at</th>\n",
       "      <th>updated_at</th>\n",
       "    </tr>\n",
       "  </thead>\n",
       "  <tbody>\n",
       "    <tr>\n",
       "      <th>0</th>\n",
       "      <td>294014</td>\n",
       "      <td>5000</td>\n",
       "      <td>0</td>\n",
       "      <td>0</td>\n",
       "      <td>NULL</td>\n",
       "      <td>'2012-11-10 23:00:00'</td>\n",
       "      <td>'2013-11-10 23:00:00'</td>\n",
       "      <td>'2012-11-10 23:00:00'</td>\n",
       "      <td>'2013-11-10 23:00:00'</td>\n",
       "      <td>0</td>\n",
       "      <td>0</td>\n",
       "      <td>0</td>\n",
       "      <td>1</td>\n",
       "      <td>1409</td>\n",
       "      <td>6</td>\n",
       "      <td>42063</td>\n",
       "      <td>30112</td>\n",
       "      <td>4</td>\n",
       "      <td>5000</td>\n",
       "      <td>'2012-11-10 23:00:00'</td>\n",
       "      <td>'2013-11-10 23:00:00'</td>\n",
       "      <td>'2020-01-31 08:04:09'</td>\n",
       "      <td>'2020-01-31 08:04:09'</td>\n",
       "    </tr>\n",
       "    <tr>\n",
       "      <th>1</th>\n",
       "      <td>294015</td>\n",
       "      <td>6000</td>\n",
       "      <td>0</td>\n",
       "      <td>0</td>\n",
       "      <td>'transferencia'</td>\n",
       "      <td>'2014-04-04 11:24:11'</td>\n",
       "      <td>'2015-04-04 11:24:11'</td>\n",
       "      <td>'2014-04-04 11:24:11'</td>\n",
       "      <td>'2015-05-04 11:24:11'</td>\n",
       "      <td>0</td>\n",
       "      <td>0</td>\n",
       "      <td>0</td>\n",
       "      <td>1</td>\n",
       "      <td>1409</td>\n",
       "      <td>6</td>\n",
       "      <td>42063</td>\n",
       "      <td>59874</td>\n",
       "      <td>4</td>\n",
       "      <td>6000</td>\n",
       "      <td>'2014-04-04 11:24:11'</td>\n",
       "      <td>'2015-04-04 11:24:11'</td>\n",
       "      <td>'2020-01-31 08:04:09'</td>\n",
       "      <td>'2020-01-31 08:04:09'</td>\n",
       "    </tr>\n",
       "    <tr>\n",
       "      <th>2</th>\n",
       "      <td>294016</td>\n",
       "      <td>900</td>\n",
       "      <td>1</td>\n",
       "      <td>0</td>\n",
       "      <td>'paypal'</td>\n",
       "      <td>'2014-11-19 13:14:20'</td>\n",
       "      <td>'2014-12-19 13:14:20'</td>\n",
       "      <td>'2014-04-04 11:24:11'</td>\n",
       "      <td>'2015-05-04 11:24:11'</td>\n",
       "      <td>0</td>\n",
       "      <td>0</td>\n",
       "      <td>1</td>\n",
       "      <td>0</td>\n",
       "      <td>1409</td>\n",
       "      <td>4</td>\n",
       "      <td>42063</td>\n",
       "      <td>74340</td>\n",
       "      <td>4</td>\n",
       "      <td>900</td>\n",
       "      <td>'2014-04-04 11:24:11'</td>\n",
       "      <td>'2015-05-04 11:24:11'</td>\n",
       "      <td>'2020-01-31 08:04:09'</td>\n",
       "      <td>'2020-01-31 08:04:09'</td>\n",
       "    </tr>\n",
       "    <tr>\n",
       "      <th>3</th>\n",
       "      <td>294017</td>\n",
       "      <td>2400</td>\n",
       "      <td>0</td>\n",
       "      <td>0</td>\n",
       "      <td>NULL</td>\n",
       "      <td>'2015-11-12 14:45:55'</td>\n",
       "      <td>'2016-02-12 14:45:55'</td>\n",
       "      <td>'2015-11-12 14:45:55'</td>\n",
       "      <td>'2016-10-12 14:45:55'</td>\n",
       "      <td>0</td>\n",
       "      <td>0</td>\n",
       "      <td>3</td>\n",
       "      <td>0</td>\n",
       "      <td>1409</td>\n",
       "      <td>5</td>\n",
       "      <td>42063</td>\n",
       "      <td>101077</td>\n",
       "      <td>4</td>\n",
       "      <td>7500</td>\n",
       "      <td>'2015-11-12 14:45:55'</td>\n",
       "      <td>'2016-10-12 14:45:55'</td>\n",
       "      <td>'2020-01-31 08:04:09'</td>\n",
       "      <td>'2020-01-31 08:04:09'</td>\n",
       "    </tr>\n",
       "    <tr>\n",
       "      <th>4</th>\n",
       "      <td>294018</td>\n",
       "      <td>2400</td>\n",
       "      <td>0</td>\n",
       "      <td>0</td>\n",
       "      <td>NULL</td>\n",
       "      <td>'2015-11-12 14:54:20'</td>\n",
       "      <td>'2016-02-12 14:54:20'</td>\n",
       "      <td>'2015-11-12 14:45:55'</td>\n",
       "      <td>'2016-10-12 14:45:55'</td>\n",
       "      <td>0</td>\n",
       "      <td>0</td>\n",
       "      <td>3</td>\n",
       "      <td>0</td>\n",
       "      <td>1409</td>\n",
       "      <td>5</td>\n",
       "      <td>42063</td>\n",
       "      <td>101078</td>\n",
       "      <td>4</td>\n",
       "      <td>7500</td>\n",
       "      <td>'2015-11-12 14:45:55'</td>\n",
       "      <td>'2016-10-12 14:45:55'</td>\n",
       "      <td>'2020-01-31 08:04:09'</td>\n",
       "      <td>'2020-01-31 08:04:09'</td>\n",
       "    </tr>\n",
       "  </tbody>\n",
       "</table>\n",
       "</div>"
      ],
      "text/plain": [
       "       id   total  ...              created_at              updated_at\n",
       "0  294014    5000  ...   '2020-01-31 08:04:09'   '2020-01-31 08:04:09'\n",
       "1  294015    6000  ...   '2020-01-31 08:04:09'   '2020-01-31 08:04:09'\n",
       "2  294016     900  ...   '2020-01-31 08:04:09'   '2020-01-31 08:04:09'\n",
       "3  294017    2400  ...   '2020-01-31 08:04:09'   '2020-01-31 08:04:09'\n",
       "4  294018    2400  ...   '2020-01-31 08:04:09'   '2020-01-31 08:04:09'\n",
       "\n",
       "[5 rows x 23 columns]"
      ]
     },
     "execution_count": 1,
     "metadata": {},
     "output_type": "execute_result"
    }
   ],
   "source": [
    "import pandas as pd\n",
    "import numpy as np\n",
    "\n",
    "pd.options.display.max_columns = 0\n",
    "df = pd.read_csv(r\"C:\\Users\\igbopa\\Desktop\\EDA\\membership_extensions.csv\")\n",
    "df.head()\n",
    "\n",
    "#Aun no tengo todas las bases de datos pero esta es la principal, me las envia hoy viernes 19 el programador"
   ]
  },
  {
   "cell_type": "code",
   "execution_count": null,
   "metadata": {},
   "outputs": [],
   "source": [
    "(Explicacion de datos internos:\n",
    "\n",
    "Todas las tablas tienen:\n",
    "\n",
    "- id: primary key\n",
    "- created_at: creación del registro\n",
    "- updated_at: última actualización del registro\n",
    "\n",
    "* User\n",
    "\n",
    "- birthday: fecha de nacimiento\n",
    "- height_cm: altura en centimetros\n",
    "- sex: género (m, f)\n",
    "\n",
    "* User Addresses\n",
    "\n",
    "- user_id: id de usuario\n",
    "- country_code: código de país del usuario (ES)\n",
    "\n",
    "* membership\n",
    "  Un usuario está suscrito si existe un registro para un usuario con member_until superior a la fecha actual.\n",
    "\n",
    "- user_id: id de usuario\n",
    "- member_until: último día de suscripción\n",
    "\n",
    "* membership_extension\n",
    "  Se crea tras cada extensión de suscripción. Si un usuario paga 1 año creará un membership extension de 1 año.\n",
    "  Si se suscribe otra vez creamos otro membership extension. Los membership extensions pueden solaparse.\n",
    "  Puedes renovar antes de terminar la suscripción actual y se crearía otro membership extension.\n",
    "\n",
    "- total: coste de la extensión de suscripción en centimos\n",
    "- payed: pagado o no (trial)\n",
    "- promo: creado a partir de promo o no\n",
    "- payment_method: pagado a través de: desconocido o NULL si son suscripciones manuales desde el admin.\n",
    "- start_date: inicio de la extensión de suscripción (cuando inicia la extensión de suscripciñon)\n",
    "- end_date: fin de la extensión de suscripción (cuando finaliza la extensión de suscripción)\n",
    "- membership_start_date: cuando se inició la suscripción\n",
    "- membersuip_end_date: cuando finalizará la suscripción definitivamente\n",
    "- days: dias de la extensión de suscripción\n",
    "- weeks: semanas de la extensión de suscripción\n",
    "- months: meses de la extensión de suscripción\n",
    "- years: años de la extensión suscripción\n",
    "- membership_id: id de suscripción de l usuario\n",
    "- plan_extension_id: id de la extensión de usuario\n",
    "- plan_id: id del plan de usuario\n",
    "- user_id: id de usuario\n",
    "- order_id: id del pedido del cual se ha generado el membership extension.\n",
    "- total_membership: coste total del usuario\n",
    "- lifetime_start: inicio de suscripción del usuario durante toda su vida\n",
    "- lifetime_end: fin de la suscripción del usuario durante toda su vida\n",
    "\n",
    "* training_class_plays\n",
    "  Reproducciones de usuario\n",
    "\n",
    "- training_class_id: id de la clase reproducida\n",
    "- user_id: id de usuario que ha reproducido\n",
    "- download_type: tipo de reproducción (video, audio, audio con voz)\n",
    "\n",
    "* trainee_profiles\n",
    "\n",
    "- user_id: id de usuario\n",
    "- started_on: inicio del perfil\n",
    "- current_weight: peso del usuario\n",
    "\n",
    "* bestlife_profiles\n",
    "\n",
    "- user_id: id de suuario\n",
    "- started_on: inicio del perfil\n",
    "- points: total de puntos de entrenamiento (gamificación)\n",
    "- force: total de puntos de entrenamiento de fuerza (gamificación)\n",
    "- resistance: total de puntos de entrenamiento de fuerza (gamificación)\n",
    "- flexibility: total de putnos de entrenamiento de flexibidad (gamificación)\n",
    "- mind: total de putnos de entrenamiento de mente (gamificación)\n",
    "- perseverance: total de putnos de entrenamiento de consistencia (gamificación)\n",
    "- level: nivel del perfil (gamificación)\n",
    "- days_in_a_row: dias consecutivos entrenando\n",
    "- total_metres: total de metros recorridos\n",
    "- total_seconds: total de segundos entrenados\n",
    "- seconds_average: duración de entrenamiento medio (segundos)\n",
    "- total_kcal: total de calorias consumidas\n",
    "- done_trainings_counter: total de entrenamientos completados\n",
    "- fit_status: nivel físico del usuario (1 bajo, 2 medio, 3 alto)\n",
    "- back_status: estado de la espalda (1 dolor - 10 perfecta)\n",
    "- training_intensity: intensidad deseada de clases (1-10)\n",
    "- time_training: minutos deseados de entrenamiento\n",
    "- days_training: dias deseados de entrenamiento a la semana)"
   ]
  }
 ],
 "metadata": {
  "interpreter": {
   "hash": "7c77fdb427e7cbc9bc1367dd530fc2b36aacdbbde1ac83c85833b10dfa8b831c"
  },
  "kernelspec": {
   "display_name": "Python 3.7.4 64-bit",
   "language": "python",
   "name": "python3"
  },
  "language_info": {
   "codemirror_mode": {
    "name": "ipython",
    "version": 3
   },
   "file_extension": ".py",
   "mimetype": "text/x-python",
   "name": "python",
   "nbconvert_exporter": "python",
   "pygments_lexer": "ipython3",
   "version": "3.10.14"
  },
  "orig_nbformat": 4
 },
 "nbformat": 4,
 "nbformat_minor": 2
}
