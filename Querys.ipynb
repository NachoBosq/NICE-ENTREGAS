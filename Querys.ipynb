{
 "cells": [
  {
   "cell_type": "code",
   "execution_count": null,
   "metadata": {},
   "outputs": [],
   "source": [
    "query = \"\"\"\n",
    "\n",
    "SELECT *\n",
    "FROM `bold-column-421114.chinook_BigQuery.Customer`\n",
    "WHERE Country LIKE \"%Brazil%\"\n",
    "\n",
    "\"\"\""
   ]
  },
  {
   "cell_type": "code",
   "execution_count": null,
   "metadata": {},
   "outputs": [],
   "source": [
    "query2 = \"\"\"\n",
    "\n",
    "SELECT DISTINCT(Title)\n",
    "FROM `bold-column-421114.chinook_BigQuery.Employee`\n",
    "WHERE Title LIKE \"Sales%\"\n",
    "\n",
    "\"\"\""
   ]
  },
  {
   "cell_type": "code",
   "execution_count": null,
   "metadata": {},
   "outputs": [],
   "source": [
    "query3 = \"\"\"\n",
    "\n",
    "SELECT * \n",
    "FROM `bold-column-421114.chinook_BigQuery.Track`\n",
    "WHERE Composer LIKE \"%AC/DC%\"\n",
    "\n",
    "\"\"\""
   ]
  },
  {
   "cell_type": "code",
   "execution_count": null,
   "metadata": {},
   "outputs": [],
   "source": [
    "query4 = \"\"\"\n",
    "\n",
    "SELECT FirstName, LastName, CustomerId, Country\n",
    "FROM `bold-column-421114.chinook_BigQuery.Customer` \n",
    "WHERE Country <> \"USA\"\n",
    "\n",
    "\"\"\""
   ]
  },
  {
   "cell_type": "code",
   "execution_count": null,
   "metadata": {},
   "outputs": [],
   "source": [
    "query5 = \"\"\"\n",
    "\n",
    "SELECT DISTINCT(Title), FirstName, LastName, Address, City, State, Country, Email\n",
    "FROM `bold-column-421114.chinook_BigQuery.Employee`\n",
    "WHERE Title LIKE \"Sales%\"\n",
    "\n",
    "\n",
    "\"\"\""
   ]
  },
  {
   "cell_type": "code",
   "execution_count": null,
   "metadata": {},
   "outputs": [],
   "source": [
    "query6 = \"\"\"\n",
    "\n",
    "\n",
    "\n",
    "\"\"\""
   ]
  },
  {
   "cell_type": "code",
   "execution_count": null,
   "metadata": {},
   "outputs": [],
   "source": [
    "query7 = \"\"\"\n",
    "SELECT State, Country, CustomerId\n",
    "FROM `bold-column-421114.chinook_BigQuery.Customer`\n",
    "WHERE Country LIKE \"%USA%\"\n",
    "\n",
    "\"\"\""
   ]
  },
  {
   "cell_type": "code",
   "execution_count": null,
   "metadata": {},
   "outputs": [],
   "source": [
    "query8 = \"\"\"\n",
    "\n",
    "\n",
    "\n",
    "\"\"\""
   ]
  },
  {
   "cell_type": "code",
   "execution_count": null,
   "metadata": {},
   "outputs": [],
   "source": [
    "query9 = \"\"\"\n",
    "\n",
    "SELECT Count(Name)\n",
    "FROM `bold-column-421114.chinook_BigQuery.Track` \n",
    "WHERE Composer LIKE \"%AC/DC%\"\n",
    "\"\"\""
   ]
  },
  {
   "cell_type": "code",
   "execution_count": null,
   "metadata": {},
   "outputs": [],
   "source": [
    "query10 = \"\"\"\n",
    "\n",
    "\n",
    "\n",
    "\"\"\""
   ]
  },
  {
   "cell_type": "code",
   "execution_count": null,
   "metadata": {},
   "outputs": [],
   "source": [
    "query11 = \"\"\"\n",
    "\n",
    "\n",
    "\n",
    "\"\"\""
   ]
  },
  {
   "cell_type": "code",
   "execution_count": null,
   "metadata": {},
   "outputs": [],
   "source": [
    "query12 = \"\"\"\n",
    "\n",
    "\n",
    "\n",
    "\"\"\""
   ]
  },
  {
   "cell_type": "code",
   "execution_count": null,
   "metadata": {},
   "outputs": [],
   "source": [
    "query13 = \"\"\"\n",
    "\n",
    "\n",
    "\n",
    "\"\"\""
   ]
  },
  {
   "cell_type": "code",
   "execution_count": null,
   "metadata": {},
   "outputs": [],
   "source": [
    "query14 = \"\"\"\n",
    "\n",
    "SELECT COUNT(CustomerId) AS CountCustomer, Country AS CuentaCliente\n",
    "FROM `bold-column-421114.chinook_BigQuery.Customer`\n",
    "WHERE Country LIKE \"%Brazil%\" OR Country LIKE \"%Spain%\"\n",
    "GROUP BY Country\n",
    "\n",
    "\"\"\""
   ]
  },
  {
   "cell_type": "code",
   "execution_count": null,
   "metadata": {},
   "outputs": [],
   "source": [
    "query15 = \"\"\"\n",
    "\n",
    "SELECT Name as Cancion\n",
    "FROM `bold-column-421114.chinook_BigQuery.Track`\n",
    "WHERE Name LIKE \"You%\"\n",
    "\n",
    "\"\"\""
   ]
  }
 ],
 "metadata": {
  "language_info": {
   "name": "python"
  }
 },
 "nbformat": 4,
 "nbformat_minor": 2
}
