{
 "cells": [
  {
   "cell_type": "markdown",
   "metadata": {
    "_uuid": "cb01ca96934e5c83a36a2308da9645b87a9c52a0"
   },
   "source": [
    "## <center> Assignment 4. Sarcasm detection with logistic regression\n",
    "    \n",
    "We'll be using the dataset from the [paper](https://arxiv.org/abs/1704.05579) \"A Large Self-Annotated Corpus for Sarcasm\" with >1mln comments from Reddit, labeled as either sarcastic or not. A processed version can be found on Kaggle in a form of a [Kaggle Dataset](https://www.kaggle.com/danofer/sarcasm).\n",
    "\n",
    "Sarcasm detection is easy. \n",
    "\n",
    "<img src=\"https://habrastorage.org/webt/1f/0d/ta/1f0dtavsd14ncf17gbsy1cvoga4.jpeg\" />"
   ]
  },
  {
   "cell_type": "markdown",
   "metadata": {},
   "source": [
    "# Detección de sarcasmo\n",
    "Para este ejercicio vas a utilizar el dataset del paper [A Large Self-Annotated Corpus for Sarcasm](https://arxiv.org/abs/1704.05579), con un millón de comentarios de Reddit, etiquetados como sarcásticos o no sarcásticos. Se pide:\n",
    "1. Si hubiese missings, eliminalos\n"
   ]
  },
  {
   "cell_type": "code",
   "execution_count": 1,
   "metadata": {
    "_uuid": "ffa03aec57ab6150f9bec0fa56cd3a5791a3e6f4"
   },
   "outputs": [],
   "source": [
    "# some necessary imports\n",
    "import os\n",
    "import numpy as np\n",
    "import pandas as pd\n",
    "from sklearn.feature_extraction.text import TfidfVectorizer\n",
    "from sklearn.linear_model import LogisticRegression\n",
    "from sklearn.pipeline import Pipeline\n",
    "from sklearn.model_selection import train_test_split\n",
    "from sklearn.metrics import accuracy_score, confusion_matrix\n",
    "import seaborn as sns\n",
    "from matplotlib import pyplot as plt"
   ]
  },
  {
   "cell_type": "code",
   "execution_count": 2,
   "metadata": {},
   "outputs": [],
   "source": [
    "# Carga el 'data/train-balanced-sarcasm.csv' en un df y muestra su inicio"
   ]
  },
  {
   "cell_type": "code",
   "execution_count": 3,
   "metadata": {},
   "outputs": [
    {
     "data": {
      "text/html": [
       "<div>\n",
       "<style scoped>\n",
       "    .dataframe tbody tr th:only-of-type {\n",
       "        vertical-align: middle;\n",
       "    }\n",
       "\n",
       "    .dataframe tbody tr th {\n",
       "        vertical-align: top;\n",
       "    }\n",
       "\n",
       "    .dataframe thead th {\n",
       "        text-align: right;\n",
       "    }\n",
       "</style>\n",
       "<table border=\"1\" class=\"dataframe\">\n",
       "  <thead>\n",
       "    <tr style=\"text-align: right;\">\n",
       "      <th></th>\n",
       "      <th>label</th>\n",
       "      <th>comment</th>\n",
       "      <th>author</th>\n",
       "      <th>subreddit</th>\n",
       "      <th>score</th>\n",
       "      <th>ups</th>\n",
       "      <th>downs</th>\n",
       "      <th>date</th>\n",
       "      <th>created_utc</th>\n",
       "      <th>parent_comment</th>\n",
       "    </tr>\n",
       "  </thead>\n",
       "  <tbody>\n",
       "    <tr>\n",
       "      <th>0</th>\n",
       "      <td>0</td>\n",
       "      <td>NC and NH.</td>\n",
       "      <td>Trumpbart</td>\n",
       "      <td>politics</td>\n",
       "      <td>2</td>\n",
       "      <td>-1</td>\n",
       "      <td>-1</td>\n",
       "      <td>2016-10</td>\n",
       "      <td>2016-10-16 23:55:23</td>\n",
       "      <td>Yeah, I get that argument. At this point, I'd ...</td>\n",
       "    </tr>\n",
       "    <tr>\n",
       "      <th>1</th>\n",
       "      <td>0</td>\n",
       "      <td>You do know west teams play against west teams...</td>\n",
       "      <td>Shbshb906</td>\n",
       "      <td>nba</td>\n",
       "      <td>-4</td>\n",
       "      <td>-1</td>\n",
       "      <td>-1</td>\n",
       "      <td>2016-11</td>\n",
       "      <td>2016-11-01 00:24:10</td>\n",
       "      <td>The blazers and Mavericks (The wests 5 and 6 s...</td>\n",
       "    </tr>\n",
       "    <tr>\n",
       "      <th>2</th>\n",
       "      <td>0</td>\n",
       "      <td>They were underdogs earlier today, but since G...</td>\n",
       "      <td>Creepeth</td>\n",
       "      <td>nfl</td>\n",
       "      <td>3</td>\n",
       "      <td>3</td>\n",
       "      <td>0</td>\n",
       "      <td>2016-09</td>\n",
       "      <td>2016-09-22 21:45:37</td>\n",
       "      <td>They're favored to win.</td>\n",
       "    </tr>\n",
       "    <tr>\n",
       "      <th>3</th>\n",
       "      <td>0</td>\n",
       "      <td>This meme isn't funny none of the \"new york ni...</td>\n",
       "      <td>icebrotha</td>\n",
       "      <td>BlackPeopleTwitter</td>\n",
       "      <td>-8</td>\n",
       "      <td>-1</td>\n",
       "      <td>-1</td>\n",
       "      <td>2016-10</td>\n",
       "      <td>2016-10-18 21:03:47</td>\n",
       "      <td>deadass don't kill my buzz</td>\n",
       "    </tr>\n",
       "    <tr>\n",
       "      <th>4</th>\n",
       "      <td>0</td>\n",
       "      <td>I could use one of those tools.</td>\n",
       "      <td>cush2push</td>\n",
       "      <td>MaddenUltimateTeam</td>\n",
       "      <td>6</td>\n",
       "      <td>-1</td>\n",
       "      <td>-1</td>\n",
       "      <td>2016-12</td>\n",
       "      <td>2016-12-30 17:00:13</td>\n",
       "      <td>Yep can confirm I saw the tool they use for th...</td>\n",
       "    </tr>\n",
       "  </tbody>\n",
       "</table>\n",
       "</div>"
      ],
      "text/plain": [
       "   label                                            comment     author  \\\n",
       "0      0                                         NC and NH.  Trumpbart   \n",
       "1      0  You do know west teams play against west teams...  Shbshb906   \n",
       "2      0  They were underdogs earlier today, but since G...   Creepeth   \n",
       "3      0  This meme isn't funny none of the \"new york ni...  icebrotha   \n",
       "4      0                    I could use one of those tools.  cush2push   \n",
       "\n",
       "            subreddit  score  ups  downs     date          created_utc  \\\n",
       "0            politics      2   -1     -1  2016-10  2016-10-16 23:55:23   \n",
       "1                 nba     -4   -1     -1  2016-11  2016-11-01 00:24:10   \n",
       "2                 nfl      3    3      0  2016-09  2016-09-22 21:45:37   \n",
       "3  BlackPeopleTwitter     -8   -1     -1  2016-10  2016-10-18 21:03:47   \n",
       "4  MaddenUltimateTeam      6   -1     -1  2016-12  2016-12-30 17:00:13   \n",
       "\n",
       "                                      parent_comment  \n",
       "0  Yeah, I get that argument. At this point, I'd ...  \n",
       "1  The blazers and Mavericks (The wests 5 and 6 s...  \n",
       "2                            They're favored to win.  \n",
       "3                         deadass don't kill my buzz  \n",
       "4  Yep can confirm I saw the tool they use for th...  "
      ]
     },
     "execution_count": 3,
     "metadata": {},
     "output_type": "execute_result"
    }
   ],
   "source": [
    "df = pd.read_csv(r'C:\\Users\\igbopa\\Desktop\\REPO TRABAJO\\3-Machine_Learning\\5-NLP\\NLTK&CountVectorizer\\data\\train-balanced-sarcasm.csv')\n",
    "df.head()"
   ]
  },
  {
   "cell_type": "markdown",
   "metadata": {
    "_uuid": "6472f52fb5ecb8bb2a6e3b292678a2042fcfe34c"
   },
   "source": [
    "Some comments are missing, so we drop the corresponding rows."
   ]
  },
  {
   "cell_type": "code",
   "execution_count": 4,
   "metadata": {},
   "outputs": [
    {
     "name": "stdout",
     "output_type": "stream",
     "text": [
      "<class 'pandas.core.frame.DataFrame'>\n",
      "RangeIndex: 1010826 entries, 0 to 1010825\n",
      "Data columns (total 10 columns):\n",
      " #   Column          Non-Null Count    Dtype \n",
      "---  ------          --------------    ----- \n",
      " 0   label           1010826 non-null  int64 \n",
      " 1   comment         1010771 non-null  object\n",
      " 2   author          1010826 non-null  object\n",
      " 3   subreddit       1010826 non-null  object\n",
      " 4   score           1010826 non-null  int64 \n",
      " 5   ups             1010826 non-null  int64 \n",
      " 6   downs           1010826 non-null  int64 \n",
      " 7   date            1010826 non-null  object\n",
      " 8   created_utc     1010826 non-null  object\n",
      " 9   parent_comment  1010826 non-null  object\n",
      "dtypes: int64(4), object(6)\n",
      "memory usage: 77.1+ MB\n"
     ]
    }
   ],
   "source": [
    "df.info()"
   ]
  },
  {
   "cell_type": "code",
   "execution_count": 5,
   "metadata": {},
   "outputs": [],
   "source": [
    "# Haz un dropna a todo el dataframe"
   ]
  },
  {
   "cell_type": "code",
   "execution_count": 6,
   "metadata": {},
   "outputs": [],
   "source": [
    "df = df.dropna()"
   ]
  },
  {
   "cell_type": "code",
   "execution_count": 7,
   "metadata": {},
   "outputs": [],
   "source": [
    "import re"
   ]
  },
  {
   "cell_type": "code",
   "execution_count": 8,
   "metadata": {},
   "outputs": [],
   "source": [
    "# Eliminamos de la columna 'comment' todo aquello que no sean caracteres de palabra o whitespace, pista: '[^\\w\\s]'"
   ]
  },
  {
   "cell_type": "code",
   "execution_count": 9,
   "metadata": {},
   "outputs": [],
   "source": [
    "signs = re.compile(r'[^\\w\\s]')\n",
    "\n",
    "def remove_signs(comment):\n",
    "    return signs.sub('', comment.lower())"
   ]
  },
  {
   "cell_type": "code",
   "execution_count": 10,
   "metadata": {},
   "outputs": [
    {
     "data": {
      "text/html": [
       "<div>\n",
       "<style scoped>\n",
       "    .dataframe tbody tr th:only-of-type {\n",
       "        vertical-align: middle;\n",
       "    }\n",
       "\n",
       "    .dataframe tbody tr th {\n",
       "        vertical-align: top;\n",
       "    }\n",
       "\n",
       "    .dataframe thead th {\n",
       "        text-align: right;\n",
       "    }\n",
       "</style>\n",
       "<table border=\"1\" class=\"dataframe\">\n",
       "  <thead>\n",
       "    <tr style=\"text-align: right;\">\n",
       "      <th></th>\n",
       "      <th>label</th>\n",
       "      <th>comment</th>\n",
       "      <th>author</th>\n",
       "      <th>subreddit</th>\n",
       "      <th>score</th>\n",
       "      <th>ups</th>\n",
       "      <th>downs</th>\n",
       "      <th>date</th>\n",
       "      <th>created_utc</th>\n",
       "      <th>parent_comment</th>\n",
       "    </tr>\n",
       "  </thead>\n",
       "  <tbody>\n",
       "    <tr>\n",
       "      <th>0</th>\n",
       "      <td>0</td>\n",
       "      <td>nc and nh</td>\n",
       "      <td>Trumpbart</td>\n",
       "      <td>politics</td>\n",
       "      <td>2</td>\n",
       "      <td>-1</td>\n",
       "      <td>-1</td>\n",
       "      <td>2016-10</td>\n",
       "      <td>2016-10-16 23:55:23</td>\n",
       "      <td>Yeah, I get that argument. At this point, I'd ...</td>\n",
       "    </tr>\n",
       "    <tr>\n",
       "      <th>1</th>\n",
       "      <td>0</td>\n",
       "      <td>you do know west teams play against west teams...</td>\n",
       "      <td>Shbshb906</td>\n",
       "      <td>nba</td>\n",
       "      <td>-4</td>\n",
       "      <td>-1</td>\n",
       "      <td>-1</td>\n",
       "      <td>2016-11</td>\n",
       "      <td>2016-11-01 00:24:10</td>\n",
       "      <td>The blazers and Mavericks (The wests 5 and 6 s...</td>\n",
       "    </tr>\n",
       "    <tr>\n",
       "      <th>2</th>\n",
       "      <td>0</td>\n",
       "      <td>they were underdogs earlier today but since gr...</td>\n",
       "      <td>Creepeth</td>\n",
       "      <td>nfl</td>\n",
       "      <td>3</td>\n",
       "      <td>3</td>\n",
       "      <td>0</td>\n",
       "      <td>2016-09</td>\n",
       "      <td>2016-09-22 21:45:37</td>\n",
       "      <td>They're favored to win.</td>\n",
       "    </tr>\n",
       "    <tr>\n",
       "      <th>3</th>\n",
       "      <td>0</td>\n",
       "      <td>this meme isnt funny none of the new york nigg...</td>\n",
       "      <td>icebrotha</td>\n",
       "      <td>BlackPeopleTwitter</td>\n",
       "      <td>-8</td>\n",
       "      <td>-1</td>\n",
       "      <td>-1</td>\n",
       "      <td>2016-10</td>\n",
       "      <td>2016-10-18 21:03:47</td>\n",
       "      <td>deadass don't kill my buzz</td>\n",
       "    </tr>\n",
       "    <tr>\n",
       "      <th>4</th>\n",
       "      <td>0</td>\n",
       "      <td>i could use one of those tools</td>\n",
       "      <td>cush2push</td>\n",
       "      <td>MaddenUltimateTeam</td>\n",
       "      <td>6</td>\n",
       "      <td>-1</td>\n",
       "      <td>-1</td>\n",
       "      <td>2016-12</td>\n",
       "      <td>2016-12-30 17:00:13</td>\n",
       "      <td>Yep can confirm I saw the tool they use for th...</td>\n",
       "    </tr>\n",
       "  </tbody>\n",
       "</table>\n",
       "</div>"
      ],
      "text/plain": [
       "   label                                            comment     author  \\\n",
       "0      0                                          nc and nh  Trumpbart   \n",
       "1      0  you do know west teams play against west teams...  Shbshb906   \n",
       "2      0  they were underdogs earlier today but since gr...   Creepeth   \n",
       "3      0  this meme isnt funny none of the new york nigg...  icebrotha   \n",
       "4      0                     i could use one of those tools  cush2push   \n",
       "\n",
       "            subreddit  score  ups  downs     date          created_utc  \\\n",
       "0            politics      2   -1     -1  2016-10  2016-10-16 23:55:23   \n",
       "1                 nba     -4   -1     -1  2016-11  2016-11-01 00:24:10   \n",
       "2                 nfl      3    3      0  2016-09  2016-09-22 21:45:37   \n",
       "3  BlackPeopleTwitter     -8   -1     -1  2016-10  2016-10-18 21:03:47   \n",
       "4  MaddenUltimateTeam      6   -1     -1  2016-12  2016-12-30 17:00:13   \n",
       "\n",
       "                                      parent_comment  \n",
       "0  Yeah, I get that argument. At this point, I'd ...  \n",
       "1  The blazers and Mavericks (The wests 5 and 6 s...  \n",
       "2                            They're favored to win.  \n",
       "3                         deadass don't kill my buzz  \n",
       "4  Yep can confirm I saw the tool they use for th...  "
      ]
     },
     "execution_count": 10,
     "metadata": {},
     "output_type": "execute_result"
    }
   ],
   "source": [
    "df['comment'] = df['comment'].apply(remove_signs)\n",
    "df.head()"
   ]
  },
  {
   "cell_type": "markdown",
   "metadata": {
    "_uuid": "9d51637ee70dca7693737ad0da1dbb8c6ce9230b"
   },
   "source": [
    "We notice that the dataset is indeed balanced"
   ]
  },
  {
   "cell_type": "code",
   "execution_count": 11,
   "metadata": {},
   "outputs": [],
   "source": [
    "#Miramos cuantos valores tenemos de cada categoria de la columna 'label'"
   ]
  },
  {
   "cell_type": "code",
   "execution_count": 12,
   "metadata": {},
   "outputs": [
    {
     "data": {
      "text/plain": [
       "label\n",
       "0    505403\n",
       "1    505368\n",
       "Name: count, dtype: int64"
      ]
     },
     "execution_count": 12,
     "metadata": {},
     "output_type": "execute_result"
    }
   ],
   "source": [
    "df.label.value_counts()"
   ]
  },
  {
   "cell_type": "markdown",
   "metadata": {
    "_uuid": "5b836574e5093c5eb2e9063fefe1c8d198dcba79"
   },
   "source": [
    "We split data into training and validation parts."
   ]
  },
  {
   "cell_type": "code",
   "execution_count": 13,
   "metadata": {},
   "outputs": [],
   "source": [
    "# Separa los conjuntos de entrenamiento y test\n",
    "\n",
    "# Usa para el conjunto X la columna 'comment' y para el y la columna 'label'\n",
    "\n",
    "# Usa un test size del 20% y una semilla de 12 (ojo, 12)"
   ]
  },
  {
   "cell_type": "code",
   "execution_count": 14,
   "metadata": {},
   "outputs": [],
   "source": [
    "X = df['comment']\n",
    "y = df['label']\n",
    "\n",
    "X_train, X_test, y_train, y_test = train_test_split(X, y, test_size=0.20, random_state=12)"
   ]
  },
  {
   "cell_type": "code",
   "execution_count": 15,
   "metadata": {},
   "outputs": [
    {
     "name": "stdout",
     "output_type": "stream",
     "text": [
      "X_train:\n",
      "928225                                in latvia no potatoes\n",
      "906853    yeah fuck him for waving a scottish flag when ...\n",
      "884716         is this the one that was bought with bitcoin\n",
      "270827         just look at the new front page boxbox video\n",
      "196136                                        we meet again\n",
      "                                ...                        \n",
      "564486      i thought sneijder was already an united player\n",
      "412939                    oh yes because theyre stopped now\n",
      "255371    no dude the fact that boogie couldnt take that...\n",
      "759479                                let me think about it\n",
      "472922                   progressive crazy people on tumblr\n",
      "Name: comment, Length: 808616, dtype: object\n"
     ]
    }
   ],
   "source": [
    "# Muestra X_train\n",
    "\n",
    "print(\"X_train:\")\n",
    "print(X_train)"
   ]
  },
  {
   "cell_type": "code",
   "execution_count": null,
   "metadata": {},
   "outputs": [],
   "source": []
  },
  {
   "cell_type": "code",
   "execution_count": 16,
   "metadata": {},
   "outputs": [],
   "source": [
    "# Muestra los shapes resultantes"
   ]
  },
  {
   "cell_type": "code",
   "execution_count": 17,
   "metadata": {},
   "outputs": [
    {
     "name": "stdout",
     "output_type": "stream",
     "text": [
      "X_train shape: (808616,)\n",
      "X_test shape: (202155,)\n",
      "y_train shape: (808616,)\n",
      "y_test shape: (202155,)\n"
     ]
    }
   ],
   "source": [
    "print(\"X_train shape:\", X_train.shape)\n",
    "print(\"X_test shape:\", X_test.shape)\n",
    "print(\"y_train shape:\", y_train.shape)\n",
    "print(\"y_test shape:\", y_test.shape)"
   ]
  },
  {
   "cell_type": "code",
   "execution_count": null,
   "metadata": {},
   "outputs": [],
   "source": []
  },
  {
   "cell_type": "markdown",
   "metadata": {
    "_uuid": "7f0f47b98e49a185cd5cffe19fcbe28409bf00c0"
   },
   "source": [
    "## Tasks:\n",
    "1. Analyze the dataset, make some plots. This [Kernel](https://www.kaggle.com/sudalairajkumar/simple-exploration-notebook-qiqc) might serve as an example\n",
    "2. Build a Tf-Idf + logistic regression pipeline to predict sarcasm (`label`) based on the text of a comment on Reddit (`comment`).\n",
    "3. Plot the words/bigrams which a most predictive of sarcasm (you can use [eli5](https://github.com/TeamHG-Memex/eli5) for that)\n",
    "4. (optionally) add subreddits as new features to improve model performance. Apply here the Bag of Words approach, i.e. treat each subreddit as a new feature.\n",
    "\n",
    "## Links:\n",
    "  - Machine learning library [Scikit-learn](https://scikit-learn.org/stable/index.html) (a.k.a. sklearn)\n",
    "  - Kernels on [logistic regression](https://www.kaggle.com/kashnitsky/topic-4-linear-models-part-2-classification) and its applications to [text classification](https://www.kaggle.com/kashnitsky/topic-4-linear-models-part-4-more-of-logit), also a [Kernel](https://www.kaggle.com/kashnitsky/topic-6-feature-engineering-and-feature-selection) on feature engineering and feature selection\n",
    "  - [Kaggle Kernel](https://www.kaggle.com/abhishek/approaching-almost-any-nlp-problem-on-kaggle) \"Approaching (Almost) Any NLP Problem on Kaggle\"\n",
    "  - [ELI5](https://github.com/TeamHG-Memex/eli5) to explain model predictions"
   ]
  },
  {
   "cell_type": "code",
   "execution_count": 18,
   "metadata": {},
   "outputs": [
    {
     "name": "stdout",
     "output_type": "stream",
     "text": [
      "Requirement already satisfied: plotly in c:\\users\\igbopa\\appdata\\local\\miniconda3\\envs\\nlp_environment\\lib\\site-packages (5.22.0)\n",
      "Requirement already satisfied: tenacity>=6.2.0 in c:\\users\\igbopa\\appdata\\local\\miniconda3\\envs\\nlp_environment\\lib\\site-packages (from plotly) (8.3.0)\n",
      "Requirement already satisfied: packaging in c:\\users\\igbopa\\appdata\\local\\miniconda3\\envs\\nlp_environment\\lib\\site-packages (from plotly) (24.0)\n",
      "Note: you may need to restart the kernel to use updated packages.\n"
     ]
    }
   ],
   "source": [
    "pip install plotly"
   ]
  },
  {
   "cell_type": "code",
   "execution_count": 19,
   "metadata": {},
   "outputs": [],
   "source": [
    "import plotly.graph_objects as go\n",
    "import plotly.offline as py"
   ]
  },
  {
   "cell_type": "code",
   "execution_count": 20,
   "metadata": {},
   "outputs": [
    {
     "data": {
      "application/vnd.plotly.v1+json": {
       "config": {
        "linkText": "Export to plot.ly",
        "plotlyServerURL": "https://plot.ly",
        "showLink": false
       },
       "data": [
        {
         "marker": {
          "color": [
           505403,
           505368
          ],
          "colorscale": [
           [
            0,
            "rgb(0,0,255)"
           ],
           [
            0.1,
            "rgb(51,153,255)"
           ],
           [
            0.2,
            "rgb(102,204,255)"
           ],
           [
            0.3,
            "rgb(153,204,255)"
           ],
           [
            0.4,
            "rgb(204,204,255)"
           ],
           [
            0.5,
            "rgb(255,255,255)"
           ],
           [
            0.6,
            "rgb(255,204,255)"
           ],
           [
            0.7,
            "rgb(255,153,255)"
           ],
           [
            0.8,
            "rgb(255,102,204)"
           ],
           [
            0.9,
            "rgb(255,102,102)"
           ],
           [
            1,
            "rgb(255,0,0)"
           ]
          ],
          "reversescale": true
         },
         "type": "bar",
         "x": [
          0,
          1
         ],
         "y": [
          505403,
          505368
         ]
        }
       ],
       "layout": {
        "font": {
         "size": 11
        },
        "template": {
         "data": {
          "bar": [
           {
            "error_x": {
             "color": "#2a3f5f"
            },
            "error_y": {
             "color": "#2a3f5f"
            },
            "marker": {
             "line": {
              "color": "#E5ECF6",
              "width": 0.5
             },
             "pattern": {
              "fillmode": "overlay",
              "size": 10,
              "solidity": 0.2
             }
            },
            "type": "bar"
           }
          ],
          "barpolar": [
           {
            "marker": {
             "line": {
              "color": "#E5ECF6",
              "width": 0.5
             },
             "pattern": {
              "fillmode": "overlay",
              "size": 10,
              "solidity": 0.2
             }
            },
            "type": "barpolar"
           }
          ],
          "carpet": [
           {
            "aaxis": {
             "endlinecolor": "#2a3f5f",
             "gridcolor": "white",
             "linecolor": "white",
             "minorgridcolor": "white",
             "startlinecolor": "#2a3f5f"
            },
            "baxis": {
             "endlinecolor": "#2a3f5f",
             "gridcolor": "white",
             "linecolor": "white",
             "minorgridcolor": "white",
             "startlinecolor": "#2a3f5f"
            },
            "type": "carpet"
           }
          ],
          "choropleth": [
           {
            "colorbar": {
             "outlinewidth": 0,
             "ticks": ""
            },
            "type": "choropleth"
           }
          ],
          "contour": [
           {
            "colorbar": {
             "outlinewidth": 0,
             "ticks": ""
            },
            "colorscale": [
             [
              0,
              "#0d0887"
             ],
             [
              0.1111111111111111,
              "#46039f"
             ],
             [
              0.2222222222222222,
              "#7201a8"
             ],
             [
              0.3333333333333333,
              "#9c179e"
             ],
             [
              0.4444444444444444,
              "#bd3786"
             ],
             [
              0.5555555555555556,
              "#d8576b"
             ],
             [
              0.6666666666666666,
              "#ed7953"
             ],
             [
              0.7777777777777778,
              "#fb9f3a"
             ],
             [
              0.8888888888888888,
              "#fdca26"
             ],
             [
              1,
              "#f0f921"
             ]
            ],
            "type": "contour"
           }
          ],
          "contourcarpet": [
           {
            "colorbar": {
             "outlinewidth": 0,
             "ticks": ""
            },
            "type": "contourcarpet"
           }
          ],
          "heatmap": [
           {
            "colorbar": {
             "outlinewidth": 0,
             "ticks": ""
            },
            "colorscale": [
             [
              0,
              "#0d0887"
             ],
             [
              0.1111111111111111,
              "#46039f"
             ],
             [
              0.2222222222222222,
              "#7201a8"
             ],
             [
              0.3333333333333333,
              "#9c179e"
             ],
             [
              0.4444444444444444,
              "#bd3786"
             ],
             [
              0.5555555555555556,
              "#d8576b"
             ],
             [
              0.6666666666666666,
              "#ed7953"
             ],
             [
              0.7777777777777778,
              "#fb9f3a"
             ],
             [
              0.8888888888888888,
              "#fdca26"
             ],
             [
              1,
              "#f0f921"
             ]
            ],
            "type": "heatmap"
           }
          ],
          "heatmapgl": [
           {
            "colorbar": {
             "outlinewidth": 0,
             "ticks": ""
            },
            "colorscale": [
             [
              0,
              "#0d0887"
             ],
             [
              0.1111111111111111,
              "#46039f"
             ],
             [
              0.2222222222222222,
              "#7201a8"
             ],
             [
              0.3333333333333333,
              "#9c179e"
             ],
             [
              0.4444444444444444,
              "#bd3786"
             ],
             [
              0.5555555555555556,
              "#d8576b"
             ],
             [
              0.6666666666666666,
              "#ed7953"
             ],
             [
              0.7777777777777778,
              "#fb9f3a"
             ],
             [
              0.8888888888888888,
              "#fdca26"
             ],
             [
              1,
              "#f0f921"
             ]
            ],
            "type": "heatmapgl"
           }
          ],
          "histogram": [
           {
            "marker": {
             "pattern": {
              "fillmode": "overlay",
              "size": 10,
              "solidity": 0.2
             }
            },
            "type": "histogram"
           }
          ],
          "histogram2d": [
           {
            "colorbar": {
             "outlinewidth": 0,
             "ticks": ""
            },
            "colorscale": [
             [
              0,
              "#0d0887"
             ],
             [
              0.1111111111111111,
              "#46039f"
             ],
             [
              0.2222222222222222,
              "#7201a8"
             ],
             [
              0.3333333333333333,
              "#9c179e"
             ],
             [
              0.4444444444444444,
              "#bd3786"
             ],
             [
              0.5555555555555556,
              "#d8576b"
             ],
             [
              0.6666666666666666,
              "#ed7953"
             ],
             [
              0.7777777777777778,
              "#fb9f3a"
             ],
             [
              0.8888888888888888,
              "#fdca26"
             ],
             [
              1,
              "#f0f921"
             ]
            ],
            "type": "histogram2d"
           }
          ],
          "histogram2dcontour": [
           {
            "colorbar": {
             "outlinewidth": 0,
             "ticks": ""
            },
            "colorscale": [
             [
              0,
              "#0d0887"
             ],
             [
              0.1111111111111111,
              "#46039f"
             ],
             [
              0.2222222222222222,
              "#7201a8"
             ],
             [
              0.3333333333333333,
              "#9c179e"
             ],
             [
              0.4444444444444444,
              "#bd3786"
             ],
             [
              0.5555555555555556,
              "#d8576b"
             ],
             [
              0.6666666666666666,
              "#ed7953"
             ],
             [
              0.7777777777777778,
              "#fb9f3a"
             ],
             [
              0.8888888888888888,
              "#fdca26"
             ],
             [
              1,
              "#f0f921"
             ]
            ],
            "type": "histogram2dcontour"
           }
          ],
          "mesh3d": [
           {
            "colorbar": {
             "outlinewidth": 0,
             "ticks": ""
            },
            "type": "mesh3d"
           }
          ],
          "parcoords": [
           {
            "line": {
             "colorbar": {
              "outlinewidth": 0,
              "ticks": ""
             }
            },
            "type": "parcoords"
           }
          ],
          "pie": [
           {
            "automargin": true,
            "type": "pie"
           }
          ],
          "scatter": [
           {
            "fillpattern": {
             "fillmode": "overlay",
             "size": 10,
             "solidity": 0.2
            },
            "type": "scatter"
           }
          ],
          "scatter3d": [
           {
            "line": {
             "colorbar": {
              "outlinewidth": 0,
              "ticks": ""
             }
            },
            "marker": {
             "colorbar": {
              "outlinewidth": 0,
              "ticks": ""
             }
            },
            "type": "scatter3d"
           }
          ],
          "scattercarpet": [
           {
            "marker": {
             "colorbar": {
              "outlinewidth": 0,
              "ticks": ""
             }
            },
            "type": "scattercarpet"
           }
          ],
          "scattergeo": [
           {
            "marker": {
             "colorbar": {
              "outlinewidth": 0,
              "ticks": ""
             }
            },
            "type": "scattergeo"
           }
          ],
          "scattergl": [
           {
            "marker": {
             "colorbar": {
              "outlinewidth": 0,
              "ticks": ""
             }
            },
            "type": "scattergl"
           }
          ],
          "scattermapbox": [
           {
            "marker": {
             "colorbar": {
              "outlinewidth": 0,
              "ticks": ""
             }
            },
            "type": "scattermapbox"
           }
          ],
          "scatterpolar": [
           {
            "marker": {
             "colorbar": {
              "outlinewidth": 0,
              "ticks": ""
             }
            },
            "type": "scatterpolar"
           }
          ],
          "scatterpolargl": [
           {
            "marker": {
             "colorbar": {
              "outlinewidth": 0,
              "ticks": ""
             }
            },
            "type": "scatterpolargl"
           }
          ],
          "scatterternary": [
           {
            "marker": {
             "colorbar": {
              "outlinewidth": 0,
              "ticks": ""
             }
            },
            "type": "scatterternary"
           }
          ],
          "surface": [
           {
            "colorbar": {
             "outlinewidth": 0,
             "ticks": ""
            },
            "colorscale": [
             [
              0,
              "#0d0887"
             ],
             [
              0.1111111111111111,
              "#46039f"
             ],
             [
              0.2222222222222222,
              "#7201a8"
             ],
             [
              0.3333333333333333,
              "#9c179e"
             ],
             [
              0.4444444444444444,
              "#bd3786"
             ],
             [
              0.5555555555555556,
              "#d8576b"
             ],
             [
              0.6666666666666666,
              "#ed7953"
             ],
             [
              0.7777777777777778,
              "#fb9f3a"
             ],
             [
              0.8888888888888888,
              "#fdca26"
             ],
             [
              1,
              "#f0f921"
             ]
            ],
            "type": "surface"
           }
          ],
          "table": [
           {
            "cells": {
             "fill": {
              "color": "#EBF0F8"
             },
             "line": {
              "color": "white"
             }
            },
            "header": {
             "fill": {
              "color": "#C8D4E3"
             },
             "line": {
              "color": "white"
             }
            },
            "type": "table"
           }
          ]
         },
         "layout": {
          "annotationdefaults": {
           "arrowcolor": "#2a3f5f",
           "arrowhead": 0,
           "arrowwidth": 1
          },
          "autotypenumbers": "strict",
          "coloraxis": {
           "colorbar": {
            "outlinewidth": 0,
            "ticks": ""
           }
          },
          "colorscale": {
           "diverging": [
            [
             0,
             "#8e0152"
            ],
            [
             0.1,
             "#c51b7d"
            ],
            [
             0.2,
             "#de77ae"
            ],
            [
             0.3,
             "#f1b6da"
            ],
            [
             0.4,
             "#fde0ef"
            ],
            [
             0.5,
             "#f7f7f7"
            ],
            [
             0.6,
             "#e6f5d0"
            ],
            [
             0.7,
             "#b8e186"
            ],
            [
             0.8,
             "#7fbc41"
            ],
            [
             0.9,
             "#4d9221"
            ],
            [
             1,
             "#276419"
            ]
           ],
           "sequential": [
            [
             0,
             "#0d0887"
            ],
            [
             0.1111111111111111,
             "#46039f"
            ],
            [
             0.2222222222222222,
             "#7201a8"
            ],
            [
             0.3333333333333333,
             "#9c179e"
            ],
            [
             0.4444444444444444,
             "#bd3786"
            ],
            [
             0.5555555555555556,
             "#d8576b"
            ],
            [
             0.6666666666666666,
             "#ed7953"
            ],
            [
             0.7777777777777778,
             "#fb9f3a"
            ],
            [
             0.8888888888888888,
             "#fdca26"
            ],
            [
             1,
             "#f0f921"
            ]
           ],
           "sequentialminus": [
            [
             0,
             "#0d0887"
            ],
            [
             0.1111111111111111,
             "#46039f"
            ],
            [
             0.2222222222222222,
             "#7201a8"
            ],
            [
             0.3333333333333333,
             "#9c179e"
            ],
            [
             0.4444444444444444,
             "#bd3786"
            ],
            [
             0.5555555555555556,
             "#d8576b"
            ],
            [
             0.6666666666666666,
             "#ed7953"
            ],
            [
             0.7777777777777778,
             "#fb9f3a"
            ],
            [
             0.8888888888888888,
             "#fdca26"
            ],
            [
             1,
             "#f0f921"
            ]
           ]
          },
          "colorway": [
           "#636efa",
           "#EF553B",
           "#00cc96",
           "#ab63fa",
           "#FFA15A",
           "#19d3f3",
           "#FF6692",
           "#B6E880",
           "#FF97FF",
           "#FECB52"
          ],
          "font": {
           "color": "#2a3f5f"
          },
          "geo": {
           "bgcolor": "white",
           "lakecolor": "white",
           "landcolor": "#E5ECF6",
           "showlakes": true,
           "showland": true,
           "subunitcolor": "white"
          },
          "hoverlabel": {
           "align": "left"
          },
          "hovermode": "closest",
          "mapbox": {
           "style": "light"
          },
          "paper_bgcolor": "white",
          "plot_bgcolor": "#E5ECF6",
          "polar": {
           "angularaxis": {
            "gridcolor": "white",
            "linecolor": "white",
            "ticks": ""
           },
           "bgcolor": "#E5ECF6",
           "radialaxis": {
            "gridcolor": "white",
            "linecolor": "white",
            "ticks": ""
           }
          },
          "scene": {
           "xaxis": {
            "backgroundcolor": "#E5ECF6",
            "gridcolor": "white",
            "gridwidth": 2,
            "linecolor": "white",
            "showbackground": true,
            "ticks": "",
            "zerolinecolor": "white"
           },
           "yaxis": {
            "backgroundcolor": "#E5ECF6",
            "gridcolor": "white",
            "gridwidth": 2,
            "linecolor": "white",
            "showbackground": true,
            "ticks": "",
            "zerolinecolor": "white"
           },
           "zaxis": {
            "backgroundcolor": "#E5ECF6",
            "gridcolor": "white",
            "gridwidth": 2,
            "linecolor": "white",
            "showbackground": true,
            "ticks": "",
            "zerolinecolor": "white"
           }
          },
          "shapedefaults": {
           "line": {
            "color": "#2a3f5f"
           }
          },
          "ternary": {
           "aaxis": {
            "gridcolor": "white",
            "linecolor": "white",
            "ticks": ""
           },
           "baxis": {
            "gridcolor": "white",
            "linecolor": "white",
            "ticks": ""
           },
           "bgcolor": "#E5ECF6",
           "caxis": {
            "gridcolor": "white",
            "linecolor": "white",
            "ticks": ""
           }
          },
          "title": {
           "x": 0.05
          },
          "xaxis": {
           "automargin": true,
           "gridcolor": "white",
           "linecolor": "white",
           "ticks": "",
           "title": {
            "standoff": 15
           },
           "zerolinecolor": "white",
           "zerolinewidth": 2
          },
          "yaxis": {
           "automargin": true,
           "gridcolor": "white",
           "linecolor": "white",
           "ticks": "",
           "title": {
            "standoff": 15
           },
           "zerolinecolor": "white",
           "zerolinewidth": 2
          }
         }
        },
        "title": {
         "text": "Number of Labels"
        }
       }
      }
     },
     "metadata": {},
     "output_type": "display_data"
    }
   ],
   "source": [
    "cnt_lbl = df['label'].value_counts()\n",
    "trace = go.Bar(\n",
    "    x=cnt_lbl.index,\n",
    "    y=cnt_lbl.values,\n",
    "    marker=dict(\n",
    "        color=cnt_lbl.values,\n",
    "        colorscale = 'Picnic',\n",
    "        reversescale = True\n",
    "    ),\n",
    ")\n",
    "\n",
    "layout = go.Layout(\n",
    "    title='Number of Labels',\n",
    "    font=dict(size=11)\n",
    ")\n",
    "\n",
    "data = [trace]\n",
    "fig = go.Figure(data=data, layout=layout)\n",
    "py.iplot(fig, filename=\"TargetCount\")"
   ]
  },
  {
   "cell_type": "code",
   "execution_count": 21,
   "metadata": {},
   "outputs": [
    {
     "data": {
      "application/vnd.plotly.v1+json": {
       "config": {
        "linkText": "Export to plot.ly",
        "plotlyServerURL": "https://plot.ly",
        "showLink": false
       },
       "data": [
        {
         "labels": [
          0,
          1
         ],
         "type": "pie",
         "values": [
          50.00173135161179,
          49.99826864838821
         ]
        }
       ],
       "layout": {
        "font": {
         "size": 11
        },
        "height": 600,
        "template": {
         "data": {
          "bar": [
           {
            "error_x": {
             "color": "#2a3f5f"
            },
            "error_y": {
             "color": "#2a3f5f"
            },
            "marker": {
             "line": {
              "color": "#E5ECF6",
              "width": 0.5
             },
             "pattern": {
              "fillmode": "overlay",
              "size": 10,
              "solidity": 0.2
             }
            },
            "type": "bar"
           }
          ],
          "barpolar": [
           {
            "marker": {
             "line": {
              "color": "#E5ECF6",
              "width": 0.5
             },
             "pattern": {
              "fillmode": "overlay",
              "size": 10,
              "solidity": 0.2
             }
            },
            "type": "barpolar"
           }
          ],
          "carpet": [
           {
            "aaxis": {
             "endlinecolor": "#2a3f5f",
             "gridcolor": "white",
             "linecolor": "white",
             "minorgridcolor": "white",
             "startlinecolor": "#2a3f5f"
            },
            "baxis": {
             "endlinecolor": "#2a3f5f",
             "gridcolor": "white",
             "linecolor": "white",
             "minorgridcolor": "white",
             "startlinecolor": "#2a3f5f"
            },
            "type": "carpet"
           }
          ],
          "choropleth": [
           {
            "colorbar": {
             "outlinewidth": 0,
             "ticks": ""
            },
            "type": "choropleth"
           }
          ],
          "contour": [
           {
            "colorbar": {
             "outlinewidth": 0,
             "ticks": ""
            },
            "colorscale": [
             [
              0,
              "#0d0887"
             ],
             [
              0.1111111111111111,
              "#46039f"
             ],
             [
              0.2222222222222222,
              "#7201a8"
             ],
             [
              0.3333333333333333,
              "#9c179e"
             ],
             [
              0.4444444444444444,
              "#bd3786"
             ],
             [
              0.5555555555555556,
              "#d8576b"
             ],
             [
              0.6666666666666666,
              "#ed7953"
             ],
             [
              0.7777777777777778,
              "#fb9f3a"
             ],
             [
              0.8888888888888888,
              "#fdca26"
             ],
             [
              1,
              "#f0f921"
             ]
            ],
            "type": "contour"
           }
          ],
          "contourcarpet": [
           {
            "colorbar": {
             "outlinewidth": 0,
             "ticks": ""
            },
            "type": "contourcarpet"
           }
          ],
          "heatmap": [
           {
            "colorbar": {
             "outlinewidth": 0,
             "ticks": ""
            },
            "colorscale": [
             [
              0,
              "#0d0887"
             ],
             [
              0.1111111111111111,
              "#46039f"
             ],
             [
              0.2222222222222222,
              "#7201a8"
             ],
             [
              0.3333333333333333,
              "#9c179e"
             ],
             [
              0.4444444444444444,
              "#bd3786"
             ],
             [
              0.5555555555555556,
              "#d8576b"
             ],
             [
              0.6666666666666666,
              "#ed7953"
             ],
             [
              0.7777777777777778,
              "#fb9f3a"
             ],
             [
              0.8888888888888888,
              "#fdca26"
             ],
             [
              1,
              "#f0f921"
             ]
            ],
            "type": "heatmap"
           }
          ],
          "heatmapgl": [
           {
            "colorbar": {
             "outlinewidth": 0,
             "ticks": ""
            },
            "colorscale": [
             [
              0,
              "#0d0887"
             ],
             [
              0.1111111111111111,
              "#46039f"
             ],
             [
              0.2222222222222222,
              "#7201a8"
             ],
             [
              0.3333333333333333,
              "#9c179e"
             ],
             [
              0.4444444444444444,
              "#bd3786"
             ],
             [
              0.5555555555555556,
              "#d8576b"
             ],
             [
              0.6666666666666666,
              "#ed7953"
             ],
             [
              0.7777777777777778,
              "#fb9f3a"
             ],
             [
              0.8888888888888888,
              "#fdca26"
             ],
             [
              1,
              "#f0f921"
             ]
            ],
            "type": "heatmapgl"
           }
          ],
          "histogram": [
           {
            "marker": {
             "pattern": {
              "fillmode": "overlay",
              "size": 10,
              "solidity": 0.2
             }
            },
            "type": "histogram"
           }
          ],
          "histogram2d": [
           {
            "colorbar": {
             "outlinewidth": 0,
             "ticks": ""
            },
            "colorscale": [
             [
              0,
              "#0d0887"
             ],
             [
              0.1111111111111111,
              "#46039f"
             ],
             [
              0.2222222222222222,
              "#7201a8"
             ],
             [
              0.3333333333333333,
              "#9c179e"
             ],
             [
              0.4444444444444444,
              "#bd3786"
             ],
             [
              0.5555555555555556,
              "#d8576b"
             ],
             [
              0.6666666666666666,
              "#ed7953"
             ],
             [
              0.7777777777777778,
              "#fb9f3a"
             ],
             [
              0.8888888888888888,
              "#fdca26"
             ],
             [
              1,
              "#f0f921"
             ]
            ],
            "type": "histogram2d"
           }
          ],
          "histogram2dcontour": [
           {
            "colorbar": {
             "outlinewidth": 0,
             "ticks": ""
            },
            "colorscale": [
             [
              0,
              "#0d0887"
             ],
             [
              0.1111111111111111,
              "#46039f"
             ],
             [
              0.2222222222222222,
              "#7201a8"
             ],
             [
              0.3333333333333333,
              "#9c179e"
             ],
             [
              0.4444444444444444,
              "#bd3786"
             ],
             [
              0.5555555555555556,
              "#d8576b"
             ],
             [
              0.6666666666666666,
              "#ed7953"
             ],
             [
              0.7777777777777778,
              "#fb9f3a"
             ],
             [
              0.8888888888888888,
              "#fdca26"
             ],
             [
              1,
              "#f0f921"
             ]
            ],
            "type": "histogram2dcontour"
           }
          ],
          "mesh3d": [
           {
            "colorbar": {
             "outlinewidth": 0,
             "ticks": ""
            },
            "type": "mesh3d"
           }
          ],
          "parcoords": [
           {
            "line": {
             "colorbar": {
              "outlinewidth": 0,
              "ticks": ""
             }
            },
            "type": "parcoords"
           }
          ],
          "pie": [
           {
            "automargin": true,
            "type": "pie"
           }
          ],
          "scatter": [
           {
            "fillpattern": {
             "fillmode": "overlay",
             "size": 10,
             "solidity": 0.2
            },
            "type": "scatter"
           }
          ],
          "scatter3d": [
           {
            "line": {
             "colorbar": {
              "outlinewidth": 0,
              "ticks": ""
             }
            },
            "marker": {
             "colorbar": {
              "outlinewidth": 0,
              "ticks": ""
             }
            },
            "type": "scatter3d"
           }
          ],
          "scattercarpet": [
           {
            "marker": {
             "colorbar": {
              "outlinewidth": 0,
              "ticks": ""
             }
            },
            "type": "scattercarpet"
           }
          ],
          "scattergeo": [
           {
            "marker": {
             "colorbar": {
              "outlinewidth": 0,
              "ticks": ""
             }
            },
            "type": "scattergeo"
           }
          ],
          "scattergl": [
           {
            "marker": {
             "colorbar": {
              "outlinewidth": 0,
              "ticks": ""
             }
            },
            "type": "scattergl"
           }
          ],
          "scattermapbox": [
           {
            "marker": {
             "colorbar": {
              "outlinewidth": 0,
              "ticks": ""
             }
            },
            "type": "scattermapbox"
           }
          ],
          "scatterpolar": [
           {
            "marker": {
             "colorbar": {
              "outlinewidth": 0,
              "ticks": ""
             }
            },
            "type": "scatterpolar"
           }
          ],
          "scatterpolargl": [
           {
            "marker": {
             "colorbar": {
              "outlinewidth": 0,
              "ticks": ""
             }
            },
            "type": "scatterpolargl"
           }
          ],
          "scatterternary": [
           {
            "marker": {
             "colorbar": {
              "outlinewidth": 0,
              "ticks": ""
             }
            },
            "type": "scatterternary"
           }
          ],
          "surface": [
           {
            "colorbar": {
             "outlinewidth": 0,
             "ticks": ""
            },
            "colorscale": [
             [
              0,
              "#0d0887"
             ],
             [
              0.1111111111111111,
              "#46039f"
             ],
             [
              0.2222222222222222,
              "#7201a8"
             ],
             [
              0.3333333333333333,
              "#9c179e"
             ],
             [
              0.4444444444444444,
              "#bd3786"
             ],
             [
              0.5555555555555556,
              "#d8576b"
             ],
             [
              0.6666666666666666,
              "#ed7953"
             ],
             [
              0.7777777777777778,
              "#fb9f3a"
             ],
             [
              0.8888888888888888,
              "#fdca26"
             ],
             [
              1,
              "#f0f921"
             ]
            ],
            "type": "surface"
           }
          ],
          "table": [
           {
            "cells": {
             "fill": {
              "color": "#EBF0F8"
             },
             "line": {
              "color": "white"
             }
            },
            "header": {
             "fill": {
              "color": "#C8D4E3"
             },
             "line": {
              "color": "white"
             }
            },
            "type": "table"
           }
          ]
         },
         "layout": {
          "annotationdefaults": {
           "arrowcolor": "#2a3f5f",
           "arrowhead": 0,
           "arrowwidth": 1
          },
          "autotypenumbers": "strict",
          "coloraxis": {
           "colorbar": {
            "outlinewidth": 0,
            "ticks": ""
           }
          },
          "colorscale": {
           "diverging": [
            [
             0,
             "#8e0152"
            ],
            [
             0.1,
             "#c51b7d"
            ],
            [
             0.2,
             "#de77ae"
            ],
            [
             0.3,
             "#f1b6da"
            ],
            [
             0.4,
             "#fde0ef"
            ],
            [
             0.5,
             "#f7f7f7"
            ],
            [
             0.6,
             "#e6f5d0"
            ],
            [
             0.7,
             "#b8e186"
            ],
            [
             0.8,
             "#7fbc41"
            ],
            [
             0.9,
             "#4d9221"
            ],
            [
             1,
             "#276419"
            ]
           ],
           "sequential": [
            [
             0,
             "#0d0887"
            ],
            [
             0.1111111111111111,
             "#46039f"
            ],
            [
             0.2222222222222222,
             "#7201a8"
            ],
            [
             0.3333333333333333,
             "#9c179e"
            ],
            [
             0.4444444444444444,
             "#bd3786"
            ],
            [
             0.5555555555555556,
             "#d8576b"
            ],
            [
             0.6666666666666666,
             "#ed7953"
            ],
            [
             0.7777777777777778,
             "#fb9f3a"
            ],
            [
             0.8888888888888888,
             "#fdca26"
            ],
            [
             1,
             "#f0f921"
            ]
           ],
           "sequentialminus": [
            [
             0,
             "#0d0887"
            ],
            [
             0.1111111111111111,
             "#46039f"
            ],
            [
             0.2222222222222222,
             "#7201a8"
            ],
            [
             0.3333333333333333,
             "#9c179e"
            ],
            [
             0.4444444444444444,
             "#bd3786"
            ],
            [
             0.5555555555555556,
             "#d8576b"
            ],
            [
             0.6666666666666666,
             "#ed7953"
            ],
            [
             0.7777777777777778,
             "#fb9f3a"
            ],
            [
             0.8888888888888888,
             "#fdca26"
            ],
            [
             1,
             "#f0f921"
            ]
           ]
          },
          "colorway": [
           "#636efa",
           "#EF553B",
           "#00cc96",
           "#ab63fa",
           "#FFA15A",
           "#19d3f3",
           "#FF6692",
           "#B6E880",
           "#FF97FF",
           "#FECB52"
          ],
          "font": {
           "color": "#2a3f5f"
          },
          "geo": {
           "bgcolor": "white",
           "lakecolor": "white",
           "landcolor": "#E5ECF6",
           "showlakes": true,
           "showland": true,
           "subunitcolor": "white"
          },
          "hoverlabel": {
           "align": "left"
          },
          "hovermode": "closest",
          "mapbox": {
           "style": "light"
          },
          "paper_bgcolor": "white",
          "plot_bgcolor": "#E5ECF6",
          "polar": {
           "angularaxis": {
            "gridcolor": "white",
            "linecolor": "white",
            "ticks": ""
           },
           "bgcolor": "#E5ECF6",
           "radialaxis": {
            "gridcolor": "white",
            "linecolor": "white",
            "ticks": ""
           }
          },
          "scene": {
           "xaxis": {
            "backgroundcolor": "#E5ECF6",
            "gridcolor": "white",
            "gridwidth": 2,
            "linecolor": "white",
            "showbackground": true,
            "ticks": "",
            "zerolinecolor": "white"
           },
           "yaxis": {
            "backgroundcolor": "#E5ECF6",
            "gridcolor": "white",
            "gridwidth": 2,
            "linecolor": "white",
            "showbackground": true,
            "ticks": "",
            "zerolinecolor": "white"
           },
           "zaxis": {
            "backgroundcolor": "#E5ECF6",
            "gridcolor": "white",
            "gridwidth": 2,
            "linecolor": "white",
            "showbackground": true,
            "ticks": "",
            "zerolinecolor": "white"
           }
          },
          "shapedefaults": {
           "line": {
            "color": "#2a3f5f"
           }
          },
          "ternary": {
           "aaxis": {
            "gridcolor": "white",
            "linecolor": "white",
            "ticks": ""
           },
           "baxis": {
            "gridcolor": "white",
            "linecolor": "white",
            "ticks": ""
           },
           "bgcolor": "#E5ECF6",
           "caxis": {
            "gridcolor": "white",
            "linecolor": "white",
            "ticks": ""
           }
          },
          "title": {
           "x": 0.05
          },
          "xaxis": {
           "automargin": true,
           "gridcolor": "white",
           "linecolor": "white",
           "ticks": "",
           "title": {
            "standoff": 15
           },
           "zerolinecolor": "white",
           "zerolinewidth": 2
          },
          "yaxis": {
           "automargin": true,
           "gridcolor": "white",
           "linecolor": "white",
           "ticks": "",
           "title": {
            "standoff": 15
           },
           "zerolinecolor": "white",
           "zerolinewidth": 2
          }
         }
        },
        "title": {
         "text": "Label distribution"
        },
        "width": 600
       }
      }
     },
     "metadata": {},
     "output_type": "display_data"
    }
   ],
   "source": [
    "labels = (np.array(cnt_lbl.index))\n",
    "sizes = (np.array((cnt_lbl / cnt_lbl.sum())*100))\n",
    "\n",
    "trace = go.Pie(labels=labels, values=sizes)\n",
    "layout = go.Layout(\n",
    "    title='Label distribution',\n",
    "    font=dict(size=11),\n",
    "    width=600,\n",
    "    height=600,\n",
    ")\n",
    "data = [trace]\n",
    "fig = go.Figure(data=data, layout=layout)\n",
    "py.iplot(fig, filename=\"usertype\")"
   ]
  },
  {
   "cell_type": "code",
   "execution_count": 22,
   "metadata": {},
   "outputs": [
    {
     "name": "stdout",
     "output_type": "stream",
     "text": [
      "Requirement already satisfied: wordcloud in c:\\users\\igbopa\\appdata\\local\\miniconda3\\envs\\nlp_environment\\lib\\site-packages (1.9.3)\n",
      "Requirement already satisfied: numpy>=1.6.1 in c:\\users\\igbopa\\appdata\\local\\miniconda3\\envs\\nlp_environment\\lib\\site-packages (from wordcloud) (1.26.4)\n",
      "Requirement already satisfied: pillow in c:\\users\\igbopa\\appdata\\local\\miniconda3\\envs\\nlp_environment\\lib\\site-packages (from wordcloud) (10.3.0)\n",
      "Requirement already satisfied: matplotlib in c:\\users\\igbopa\\appdata\\local\\miniconda3\\envs\\nlp_environment\\lib\\site-packages (from wordcloud) (3.9.0)\n",
      "Requirement already satisfied: contourpy>=1.0.1 in c:\\users\\igbopa\\appdata\\local\\miniconda3\\envs\\nlp_environment\\lib\\site-packages (from matplotlib->wordcloud) (1.2.1)\n",
      "Requirement already satisfied: cycler>=0.10 in c:\\users\\igbopa\\appdata\\local\\miniconda3\\envs\\nlp_environment\\lib\\site-packages (from matplotlib->wordcloud) (0.12.1)\n",
      "Requirement already satisfied: fonttools>=4.22.0 in c:\\users\\igbopa\\appdata\\local\\miniconda3\\envs\\nlp_environment\\lib\\site-packages (from matplotlib->wordcloud) (4.52.4)\n",
      "Requirement already satisfied: kiwisolver>=1.3.1 in c:\\users\\igbopa\\appdata\\local\\miniconda3\\envs\\nlp_environment\\lib\\site-packages (from matplotlib->wordcloud) (1.4.5)\n",
      "Requirement already satisfied: packaging>=20.0 in c:\\users\\igbopa\\appdata\\local\\miniconda3\\envs\\nlp_environment\\lib\\site-packages (from matplotlib->wordcloud) (24.0)\n",
      "Requirement already satisfied: pyparsing>=2.3.1 in c:\\users\\igbopa\\appdata\\local\\miniconda3\\envs\\nlp_environment\\lib\\site-packages (from matplotlib->wordcloud) (3.1.2)\n",
      "Requirement already satisfied: python-dateutil>=2.7 in c:\\users\\igbopa\\appdata\\local\\miniconda3\\envs\\nlp_environment\\lib\\site-packages (from matplotlib->wordcloud) (2.9.0.post0)\n",
      "Requirement already satisfied: six>=1.5 in c:\\users\\igbopa\\appdata\\local\\miniconda3\\envs\\nlp_environment\\lib\\site-packages (from python-dateutil>=2.7->matplotlib->wordcloud) (1.16.0)\n",
      "Note: you may need to restart the kernel to use updated packages.\n"
     ]
    }
   ],
   "source": [
    "pip install wordcloud"
   ]
  },
  {
   "cell_type": "code",
   "execution_count": 23,
   "metadata": {},
   "outputs": [],
   "source": [
    "from wordcloud import WordCloud, STOPWORDS"
   ]
  },
  {
   "cell_type": "code",
   "execution_count": 24,
   "metadata": {},
   "outputs": [
    {
     "name": "stderr",
     "output_type": "stream",
     "text": [
      "c:\\Users\\igbopa\\AppData\\Local\\miniconda3\\envs\\NLP_Environment\\lib\\site-packages\\plotly\\tools.py:455: DeprecationWarning:\n",
      "\n",
      "plotly.tools.make_subplots is deprecated, please use plotly.subplots.make_subplots instead\n",
      "\n"
     ]
    },
    {
     "data": {
      "application/vnd.plotly.v1+json": {
       "config": {
        "linkText": "Export to plot.ly",
        "plotlyServerURL": "https://plot.ly",
        "showLink": false
       },
       "data": [
        {
         "marker": {
          "color": "blue"
         },
         "orientation": "h",
         "showlegend": false,
         "type": "bar",
         "x": [
          5251,
          5303,
          5401,
          5449,
          5600,
          5612,
          5724,
          5956,
          5990,
          6114,
          6203,
          6240,
          6246,
          6351,
          6403,
          6444,
          6567,
          6735,
          6829,
          6836,
          6888,
          6921,
          6975,
          7203,
          7223,
          7468,
          7595,
          7648,
          7941,
          8223,
          8331,
          8575,
          8620,
          8701,
          8759,
          8921,
          9690,
          10166,
          10349,
          10560,
          11427,
          11702,
          12242,
          12546,
          12906,
          15243,
          15382,
          17918,
          18108,
          20793
         ],
         "xaxis": "x",
         "y": [
          "someone",
          "isnt",
          "use",
          "lol",
          "thing",
          "back",
          "yes",
          "hes",
          "first",
          "need",
          "probably",
          "something",
          "shit",
          "never",
          "doesnt",
          "better",
          "actually",
          "say",
          "way",
          "didnt",
          "pretty",
          "going",
          "sure",
          "cant",
          "want",
          "game",
          "go",
          "got",
          "right",
          "much",
          "make",
          "see",
          "still",
          "yeah",
          "even",
          "youre",
          "now",
          "time",
          "really",
          "fuck",
          "know",
          "good",
          "well",
          "will",
          "thats",
          "people",
          "think",
          "one",
          "im",
          "dont"
         ],
         "yaxis": "y"
        },
        {
         "marker": {
          "color": "red"
         },
         "orientation": "h",
         "showlegend": false,
         "type": "bar",
         "x": [
          5566,
          5668,
          5968,
          6127,
          6158,
          6185,
          6310,
          6377,
          6471,
          6473,
          6492,
          6506,
          6653,
          6943,
          7123,
          7305,
          7326,
          7570,
          7977,
          7998,
          8076,
          8218,
          8290,
          8294,
          8380,
          8614,
          8692,
          8763,
          8887,
          9173,
          9187,
          9323,
          9400,
          9555,
          9590,
          11320,
          11674,
          11969,
          12426,
          12557,
          13507,
          14367,
          14494,
          15027,
          15937,
          16553,
          18422,
          20768,
          23009,
          32056
         ],
         "xaxis": "x2",
         "y": [
          "white",
          "got",
          "even",
          "theyre",
          "going",
          "must",
          "thing",
          "isnt",
          "clearly",
          "mean",
          "everyone",
          "great",
          "go",
          "want",
          "doesnt",
          "us",
          "much",
          "way",
          "forgot",
          "totally",
          "better",
          "didnt",
          "need",
          "game",
          "time",
          "hes",
          "man",
          "never",
          "see",
          "really",
          "obviously",
          "make",
          "oh",
          "think",
          "now",
          "youre",
          "cant",
          "yes",
          "sure",
          "good",
          "one",
          "know",
          "will",
          "right",
          "im",
          "thats",
          "well",
          "people",
          "dont",
          "yeah"
         ],
         "yaxis": "y2"
        }
       ],
       "layout": {
        "annotations": [
         {
          "font": {
           "size": 16
          },
          "showarrow": false,
          "text": "Frequent words of not sarcastic comments",
          "x": 0.225,
          "xanchor": "center",
          "xref": "paper",
          "y": 1,
          "yanchor": "bottom",
          "yref": "paper"
         },
         {
          "font": {
           "size": 16
          },
          "showarrow": false,
          "text": "Frequent words of sarcastic comments",
          "x": 0.775,
          "xanchor": "center",
          "xref": "paper",
          "y": 1,
          "yanchor": "bottom",
          "yref": "paper"
         }
        ],
        "height": 1200,
        "paper_bgcolor": "rgb(233,233,233)",
        "template": {
         "data": {
          "bar": [
           {
            "error_x": {
             "color": "#2a3f5f"
            },
            "error_y": {
             "color": "#2a3f5f"
            },
            "marker": {
             "line": {
              "color": "#E5ECF6",
              "width": 0.5
             },
             "pattern": {
              "fillmode": "overlay",
              "size": 10,
              "solidity": 0.2
             }
            },
            "type": "bar"
           }
          ],
          "barpolar": [
           {
            "marker": {
             "line": {
              "color": "#E5ECF6",
              "width": 0.5
             },
             "pattern": {
              "fillmode": "overlay",
              "size": 10,
              "solidity": 0.2
             }
            },
            "type": "barpolar"
           }
          ],
          "carpet": [
           {
            "aaxis": {
             "endlinecolor": "#2a3f5f",
             "gridcolor": "white",
             "linecolor": "white",
             "minorgridcolor": "white",
             "startlinecolor": "#2a3f5f"
            },
            "baxis": {
             "endlinecolor": "#2a3f5f",
             "gridcolor": "white",
             "linecolor": "white",
             "minorgridcolor": "white",
             "startlinecolor": "#2a3f5f"
            },
            "type": "carpet"
           }
          ],
          "choropleth": [
           {
            "colorbar": {
             "outlinewidth": 0,
             "ticks": ""
            },
            "type": "choropleth"
           }
          ],
          "contour": [
           {
            "colorbar": {
             "outlinewidth": 0,
             "ticks": ""
            },
            "colorscale": [
             [
              0,
              "#0d0887"
             ],
             [
              0.1111111111111111,
              "#46039f"
             ],
             [
              0.2222222222222222,
              "#7201a8"
             ],
             [
              0.3333333333333333,
              "#9c179e"
             ],
             [
              0.4444444444444444,
              "#bd3786"
             ],
             [
              0.5555555555555556,
              "#d8576b"
             ],
             [
              0.6666666666666666,
              "#ed7953"
             ],
             [
              0.7777777777777778,
              "#fb9f3a"
             ],
             [
              0.8888888888888888,
              "#fdca26"
             ],
             [
              1,
              "#f0f921"
             ]
            ],
            "type": "contour"
           }
          ],
          "contourcarpet": [
           {
            "colorbar": {
             "outlinewidth": 0,
             "ticks": ""
            },
            "type": "contourcarpet"
           }
          ],
          "heatmap": [
           {
            "colorbar": {
             "outlinewidth": 0,
             "ticks": ""
            },
            "colorscale": [
             [
              0,
              "#0d0887"
             ],
             [
              0.1111111111111111,
              "#46039f"
             ],
             [
              0.2222222222222222,
              "#7201a8"
             ],
             [
              0.3333333333333333,
              "#9c179e"
             ],
             [
              0.4444444444444444,
              "#bd3786"
             ],
             [
              0.5555555555555556,
              "#d8576b"
             ],
             [
              0.6666666666666666,
              "#ed7953"
             ],
             [
              0.7777777777777778,
              "#fb9f3a"
             ],
             [
              0.8888888888888888,
              "#fdca26"
             ],
             [
              1,
              "#f0f921"
             ]
            ],
            "type": "heatmap"
           }
          ],
          "heatmapgl": [
           {
            "colorbar": {
             "outlinewidth": 0,
             "ticks": ""
            },
            "colorscale": [
             [
              0,
              "#0d0887"
             ],
             [
              0.1111111111111111,
              "#46039f"
             ],
             [
              0.2222222222222222,
              "#7201a8"
             ],
             [
              0.3333333333333333,
              "#9c179e"
             ],
             [
              0.4444444444444444,
              "#bd3786"
             ],
             [
              0.5555555555555556,
              "#d8576b"
             ],
             [
              0.6666666666666666,
              "#ed7953"
             ],
             [
              0.7777777777777778,
              "#fb9f3a"
             ],
             [
              0.8888888888888888,
              "#fdca26"
             ],
             [
              1,
              "#f0f921"
             ]
            ],
            "type": "heatmapgl"
           }
          ],
          "histogram": [
           {
            "marker": {
             "pattern": {
              "fillmode": "overlay",
              "size": 10,
              "solidity": 0.2
             }
            },
            "type": "histogram"
           }
          ],
          "histogram2d": [
           {
            "colorbar": {
             "outlinewidth": 0,
             "ticks": ""
            },
            "colorscale": [
             [
              0,
              "#0d0887"
             ],
             [
              0.1111111111111111,
              "#46039f"
             ],
             [
              0.2222222222222222,
              "#7201a8"
             ],
             [
              0.3333333333333333,
              "#9c179e"
             ],
             [
              0.4444444444444444,
              "#bd3786"
             ],
             [
              0.5555555555555556,
              "#d8576b"
             ],
             [
              0.6666666666666666,
              "#ed7953"
             ],
             [
              0.7777777777777778,
              "#fb9f3a"
             ],
             [
              0.8888888888888888,
              "#fdca26"
             ],
             [
              1,
              "#f0f921"
             ]
            ],
            "type": "histogram2d"
           }
          ],
          "histogram2dcontour": [
           {
            "colorbar": {
             "outlinewidth": 0,
             "ticks": ""
            },
            "colorscale": [
             [
              0,
              "#0d0887"
             ],
             [
              0.1111111111111111,
              "#46039f"
             ],
             [
              0.2222222222222222,
              "#7201a8"
             ],
             [
              0.3333333333333333,
              "#9c179e"
             ],
             [
              0.4444444444444444,
              "#bd3786"
             ],
             [
              0.5555555555555556,
              "#d8576b"
             ],
             [
              0.6666666666666666,
              "#ed7953"
             ],
             [
              0.7777777777777778,
              "#fb9f3a"
             ],
             [
              0.8888888888888888,
              "#fdca26"
             ],
             [
              1,
              "#f0f921"
             ]
            ],
            "type": "histogram2dcontour"
           }
          ],
          "mesh3d": [
           {
            "colorbar": {
             "outlinewidth": 0,
             "ticks": ""
            },
            "type": "mesh3d"
           }
          ],
          "parcoords": [
           {
            "line": {
             "colorbar": {
              "outlinewidth": 0,
              "ticks": ""
             }
            },
            "type": "parcoords"
           }
          ],
          "pie": [
           {
            "automargin": true,
            "type": "pie"
           }
          ],
          "scatter": [
           {
            "fillpattern": {
             "fillmode": "overlay",
             "size": 10,
             "solidity": 0.2
            },
            "type": "scatter"
           }
          ],
          "scatter3d": [
           {
            "line": {
             "colorbar": {
              "outlinewidth": 0,
              "ticks": ""
             }
            },
            "marker": {
             "colorbar": {
              "outlinewidth": 0,
              "ticks": ""
             }
            },
            "type": "scatter3d"
           }
          ],
          "scattercarpet": [
           {
            "marker": {
             "colorbar": {
              "outlinewidth": 0,
              "ticks": ""
             }
            },
            "type": "scattercarpet"
           }
          ],
          "scattergeo": [
           {
            "marker": {
             "colorbar": {
              "outlinewidth": 0,
              "ticks": ""
             }
            },
            "type": "scattergeo"
           }
          ],
          "scattergl": [
           {
            "marker": {
             "colorbar": {
              "outlinewidth": 0,
              "ticks": ""
             }
            },
            "type": "scattergl"
           }
          ],
          "scattermapbox": [
           {
            "marker": {
             "colorbar": {
              "outlinewidth": 0,
              "ticks": ""
             }
            },
            "type": "scattermapbox"
           }
          ],
          "scatterpolar": [
           {
            "marker": {
             "colorbar": {
              "outlinewidth": 0,
              "ticks": ""
             }
            },
            "type": "scatterpolar"
           }
          ],
          "scatterpolargl": [
           {
            "marker": {
             "colorbar": {
              "outlinewidth": 0,
              "ticks": ""
             }
            },
            "type": "scatterpolargl"
           }
          ],
          "scatterternary": [
           {
            "marker": {
             "colorbar": {
              "outlinewidth": 0,
              "ticks": ""
             }
            },
            "type": "scatterternary"
           }
          ],
          "surface": [
           {
            "colorbar": {
             "outlinewidth": 0,
             "ticks": ""
            },
            "colorscale": [
             [
              0,
              "#0d0887"
             ],
             [
              0.1111111111111111,
              "#46039f"
             ],
             [
              0.2222222222222222,
              "#7201a8"
             ],
             [
              0.3333333333333333,
              "#9c179e"
             ],
             [
              0.4444444444444444,
              "#bd3786"
             ],
             [
              0.5555555555555556,
              "#d8576b"
             ],
             [
              0.6666666666666666,
              "#ed7953"
             ],
             [
              0.7777777777777778,
              "#fb9f3a"
             ],
             [
              0.8888888888888888,
              "#fdca26"
             ],
             [
              1,
              "#f0f921"
             ]
            ],
            "type": "surface"
           }
          ],
          "table": [
           {
            "cells": {
             "fill": {
              "color": "#EBF0F8"
             },
             "line": {
              "color": "white"
             }
            },
            "header": {
             "fill": {
              "color": "#C8D4E3"
             },
             "line": {
              "color": "white"
             }
            },
            "type": "table"
           }
          ]
         },
         "layout": {
          "annotationdefaults": {
           "arrowcolor": "#2a3f5f",
           "arrowhead": 0,
           "arrowwidth": 1
          },
          "autotypenumbers": "strict",
          "coloraxis": {
           "colorbar": {
            "outlinewidth": 0,
            "ticks": ""
           }
          },
          "colorscale": {
           "diverging": [
            [
             0,
             "#8e0152"
            ],
            [
             0.1,
             "#c51b7d"
            ],
            [
             0.2,
             "#de77ae"
            ],
            [
             0.3,
             "#f1b6da"
            ],
            [
             0.4,
             "#fde0ef"
            ],
            [
             0.5,
             "#f7f7f7"
            ],
            [
             0.6,
             "#e6f5d0"
            ],
            [
             0.7,
             "#b8e186"
            ],
            [
             0.8,
             "#7fbc41"
            ],
            [
             0.9,
             "#4d9221"
            ],
            [
             1,
             "#276419"
            ]
           ],
           "sequential": [
            [
             0,
             "#0d0887"
            ],
            [
             0.1111111111111111,
             "#46039f"
            ],
            [
             0.2222222222222222,
             "#7201a8"
            ],
            [
             0.3333333333333333,
             "#9c179e"
            ],
            [
             0.4444444444444444,
             "#bd3786"
            ],
            [
             0.5555555555555556,
             "#d8576b"
            ],
            [
             0.6666666666666666,
             "#ed7953"
            ],
            [
             0.7777777777777778,
             "#fb9f3a"
            ],
            [
             0.8888888888888888,
             "#fdca26"
            ],
            [
             1,
             "#f0f921"
            ]
           ],
           "sequentialminus": [
            [
             0,
             "#0d0887"
            ],
            [
             0.1111111111111111,
             "#46039f"
            ],
            [
             0.2222222222222222,
             "#7201a8"
            ],
            [
             0.3333333333333333,
             "#9c179e"
            ],
            [
             0.4444444444444444,
             "#bd3786"
            ],
            [
             0.5555555555555556,
             "#d8576b"
            ],
            [
             0.6666666666666666,
             "#ed7953"
            ],
            [
             0.7777777777777778,
             "#fb9f3a"
            ],
            [
             0.8888888888888888,
             "#fdca26"
            ],
            [
             1,
             "#f0f921"
            ]
           ]
          },
          "colorway": [
           "#636efa",
           "#EF553B",
           "#00cc96",
           "#ab63fa",
           "#FFA15A",
           "#19d3f3",
           "#FF6692",
           "#B6E880",
           "#FF97FF",
           "#FECB52"
          ],
          "font": {
           "color": "#2a3f5f"
          },
          "geo": {
           "bgcolor": "white",
           "lakecolor": "white",
           "landcolor": "#E5ECF6",
           "showlakes": true,
           "showland": true,
           "subunitcolor": "white"
          },
          "hoverlabel": {
           "align": "left"
          },
          "hovermode": "closest",
          "mapbox": {
           "style": "light"
          },
          "paper_bgcolor": "white",
          "plot_bgcolor": "#E5ECF6",
          "polar": {
           "angularaxis": {
            "gridcolor": "white",
            "linecolor": "white",
            "ticks": ""
           },
           "bgcolor": "#E5ECF6",
           "radialaxis": {
            "gridcolor": "white",
            "linecolor": "white",
            "ticks": ""
           }
          },
          "scene": {
           "xaxis": {
            "backgroundcolor": "#E5ECF6",
            "gridcolor": "white",
            "gridwidth": 2,
            "linecolor": "white",
            "showbackground": true,
            "ticks": "",
            "zerolinecolor": "white"
           },
           "yaxis": {
            "backgroundcolor": "#E5ECF6",
            "gridcolor": "white",
            "gridwidth": 2,
            "linecolor": "white",
            "showbackground": true,
            "ticks": "",
            "zerolinecolor": "white"
           },
           "zaxis": {
            "backgroundcolor": "#E5ECF6",
            "gridcolor": "white",
            "gridwidth": 2,
            "linecolor": "white",
            "showbackground": true,
            "ticks": "",
            "zerolinecolor": "white"
           }
          },
          "shapedefaults": {
           "line": {
            "color": "#2a3f5f"
           }
          },
          "ternary": {
           "aaxis": {
            "gridcolor": "white",
            "linecolor": "white",
            "ticks": ""
           },
           "baxis": {
            "gridcolor": "white",
            "linecolor": "white",
            "ticks": ""
           },
           "bgcolor": "#E5ECF6",
           "caxis": {
            "gridcolor": "white",
            "linecolor": "white",
            "ticks": ""
           }
          },
          "title": {
           "x": 0.05
          },
          "xaxis": {
           "automargin": true,
           "gridcolor": "white",
           "linecolor": "white",
           "ticks": "",
           "title": {
            "standoff": 15
           },
           "zerolinecolor": "white",
           "zerolinewidth": 2
          },
          "yaxis": {
           "automargin": true,
           "gridcolor": "white",
           "linecolor": "white",
           "ticks": "",
           "title": {
            "standoff": 15
           },
           "zerolinecolor": "white",
           "zerolinewidth": 2
          }
         }
        },
        "title": {
         "text": "Word Count Plots"
        },
        "width": 900,
        "xaxis": {
         "anchor": "y",
         "domain": [
          0,
          0.45
         ]
        },
        "xaxis2": {
         "anchor": "y2",
         "domain": [
          0.55,
          1
         ]
        },
        "yaxis": {
         "anchor": "x",
         "domain": [
          0,
          1
         ]
        },
        "yaxis2": {
         "anchor": "x2",
         "domain": [
          0,
          1
         ]
        }
       }
      }
     },
     "metadata": {},
     "output_type": "display_data"
    }
   ],
   "source": [
    "from collections import defaultdict\n",
    "from plotly import tools\n",
    "\n",
    "train1_df = df[df[\"label\"]==1]\n",
    "train0_df = df[df[\"label\"]==0]\n",
    "\n",
    "## custom function for ngram generation ##\n",
    "def generate_ngrams(text, n_gram=1):\n",
    "    token = [token for token in text.lower().split(\" \") if token != \"\" if token not in STOPWORDS]\n",
    "    ngrams = zip(*[token[i:] for i in range(n_gram)])\n",
    "    return [\" \".join(ngram) for ngram in ngrams]\n",
    "\n",
    "\n",
    "## custom function for horizontal bar chart ##\n",
    "def horizontal_bar_chart(df, color):\n",
    "    trace = go.Bar(\n",
    "        y=df[\"word\"].values[::-1],\n",
    "        x=df[\"wordcount\"].values[::-1],\n",
    "        showlegend=False,\n",
    "        orientation = 'h',\n",
    "        marker=dict(\n",
    "            color=color,\n",
    "        ),\n",
    "    )\n",
    "    return trace\n",
    "\n",
    "## Get the bar chart from not sarcastic comment ##\n",
    "freq_dict = defaultdict(int)\n",
    "for sent in train0_df[\"comment\"]:\n",
    "    for word in generate_ngrams(sent):\n",
    "        freq_dict[word] += 1\n",
    "fd_sorted = pd.DataFrame(sorted(freq_dict.items(), key=lambda x: x[1])[::-1])\n",
    "fd_sorted.columns = [\"word\", \"wordcount\"]\n",
    "trace0 = horizontal_bar_chart(fd_sorted.head(50), 'blue')\n",
    "\n",
    "## Get the bar chart from sarcastic comment ##\n",
    "freq_dict = defaultdict(int)\n",
    "for sent in train1_df[\"comment\"]:\n",
    "    for word in generate_ngrams(sent):\n",
    "        freq_dict[word] += 1\n",
    "fd_sorted = pd.DataFrame(sorted(freq_dict.items(), key=lambda x: x[1])[::-1])\n",
    "fd_sorted.columns = [\"word\", \"wordcount\"]\n",
    "trace1 = horizontal_bar_chart(fd_sorted.head(50), 'red')\n",
    "\n",
    "# Creating two subplots\n",
    "fig = tools.make_subplots(rows=1, cols=2, vertical_spacing=0.04,\n",
    "                          subplot_titles=[\"Frequent words of not sarcastic comments\", \n",
    "                                          \"Frequent words of sarcastic comments\"])\n",
    "fig.append_trace(trace0, 1, 1)\n",
    "fig.append_trace(trace1, 1, 2)\n",
    "fig['layout'].update(height=1200, width=900, paper_bgcolor='rgb(233,233,233)', title=\"Word Count Plots\")\n",
    "py.iplot(fig, filename='word-plots');"
   ]
  },
  {
   "cell_type": "code",
   "execution_count": 25,
   "metadata": {},
   "outputs": [
    {
     "data": {
      "application/vnd.plotly.v1+json": {
       "config": {
        "linkText": "Export to plot.ly",
        "plotlyServerURL": "https://plot.ly",
        "showLink": false
       },
       "data": [
        {
         "marker": {
          "color": "orange"
         },
         "orientation": "h",
         "showlegend": false,
         "type": "bar",
         "x": [
          455,
          456,
          477,
          479,
          482,
          492,
          514,
          515,
          517,
          522,
          525,
          529,
          530,
          531,
          539,
          544,
          552,
          554,
          556,
          557,
          566,
          578,
          614,
          615,
          616,
          619,
          737,
          783,
          797,
          899,
          908,
          912,
          920,
          934,
          955,
          958,
          1017,
          1053,
          1074,
          1110,
          1129,
          1333,
          1341,
          1351,
          1495,
          1704,
          2134,
          2284,
          2675,
          5267
         ],
         "xaxis": "x",
         "y": [
          "even though",
          "doesnt mean",
          "cmd cmd",
          "dont need",
          "last year",
          "didnt know",
          "dont even",
          "pretty good",
          "first time",
          "ive never",
          "people dont",
          "trumps hate",
          "love trumps",
          "hate love",
          "islam islam",
          "holy shit",
          "makes sense",
          "id say",
          "make sure",
          "year old",
          "dont see",
          "dont forget",
          "years ago",
          "gjallarhorn gjallarhorn",
          "every time",
          "ziggo ziggo",
          "im going",
          "trump donald",
          "im pretty",
          "news fake",
          "pasta copy",
          "ive seen",
          "copy pasta",
          "fake news",
          "donald trump",
          "dont want",
          "raving raving",
          "pretty much",
          "liar liar",
          "7 iphone",
          "iphone 7",
          "right now",
          "jerry jerry",
          "pretty sure",
          "im sure",
          "money money",
          "dont think",
          "dont know",
          "comcast comcast",
          "fuck fuck"
         ],
         "yaxis": "y"
        },
        {
         "marker": {
          "color": "orange"
         },
         "orientation": "h",
         "showlegend": false,
         "type": "bar",
         "x": [
          431,
          432,
          432,
          437,
          442,
          442,
          459,
          466,
          483,
          504,
          509,
          520,
          537,
          551,
          554,
          580,
          588,
          610,
          610,
          612,
          615,
          633,
          642,
          649,
          665,
          699,
          718,
          738,
          759,
          772,
          776,
          824,
          841,
          850,
          873,
          925,
          983,
          1007,
          1037,
          1088,
          1121,
          1154,
          1167,
          1205,
          1259,
          1273,
          1429,
          1642,
          2944,
          5652
         ],
         "xaxis": "x2",
         "y": [
          "every single",
          "years ago",
          "go back",
          "never heard",
          "ive never",
          "youre saying",
          "im going",
          "yeah lets",
          "cant believe",
          "well obviously",
          "think forgot",
          "doesnt matter",
          "yeah cause",
          "im pretty",
          "yeah man",
          "never seen",
          "makes sense",
          "year old",
          "thank god",
          "well thats",
          "yeah totally",
          "ah yes",
          "nah man",
          "cant see",
          "dont need",
          "make sure",
          "people dont",
          "dont see",
          "yeah fuck",
          "im glad",
          "dont forget",
          "dont understand",
          "right now",
          "yeah im",
          "dont think",
          "pretty sure",
          "dont want",
          "black people",
          "yeah thats",
          "oh yeah",
          "much better",
          "cant wait",
          "didnt know",
          "white people",
          "youre right",
          "dont worry",
          "everyone knows",
          "good thing",
          "dont know",
          "im sure"
         ],
         "yaxis": "y2"
        }
       ],
       "layout": {
        "annotations": [
         {
          "font": {
           "size": 16
          },
          "showarrow": false,
          "text": "Frequent bigrams of not sarcastic questions",
          "x": 0.2125,
          "xanchor": "center",
          "xref": "paper",
          "y": 1,
          "yanchor": "bottom",
          "yref": "paper"
         },
         {
          "font": {
           "size": 16
          },
          "showarrow": false,
          "text": "Frequent bigrams of sarcastic questions",
          "x": 0.7875,
          "xanchor": "center",
          "xref": "paper",
          "y": 1,
          "yanchor": "bottom",
          "yref": "paper"
         }
        ],
        "height": 1200,
        "paper_bgcolor": "rgb(233,233,233)",
        "template": {
         "data": {
          "bar": [
           {
            "error_x": {
             "color": "#2a3f5f"
            },
            "error_y": {
             "color": "#2a3f5f"
            },
            "marker": {
             "line": {
              "color": "#E5ECF6",
              "width": 0.5
             },
             "pattern": {
              "fillmode": "overlay",
              "size": 10,
              "solidity": 0.2
             }
            },
            "type": "bar"
           }
          ],
          "barpolar": [
           {
            "marker": {
             "line": {
              "color": "#E5ECF6",
              "width": 0.5
             },
             "pattern": {
              "fillmode": "overlay",
              "size": 10,
              "solidity": 0.2
             }
            },
            "type": "barpolar"
           }
          ],
          "carpet": [
           {
            "aaxis": {
             "endlinecolor": "#2a3f5f",
             "gridcolor": "white",
             "linecolor": "white",
             "minorgridcolor": "white",
             "startlinecolor": "#2a3f5f"
            },
            "baxis": {
             "endlinecolor": "#2a3f5f",
             "gridcolor": "white",
             "linecolor": "white",
             "minorgridcolor": "white",
             "startlinecolor": "#2a3f5f"
            },
            "type": "carpet"
           }
          ],
          "choropleth": [
           {
            "colorbar": {
             "outlinewidth": 0,
             "ticks": ""
            },
            "type": "choropleth"
           }
          ],
          "contour": [
           {
            "colorbar": {
             "outlinewidth": 0,
             "ticks": ""
            },
            "colorscale": [
             [
              0,
              "#0d0887"
             ],
             [
              0.1111111111111111,
              "#46039f"
             ],
             [
              0.2222222222222222,
              "#7201a8"
             ],
             [
              0.3333333333333333,
              "#9c179e"
             ],
             [
              0.4444444444444444,
              "#bd3786"
             ],
             [
              0.5555555555555556,
              "#d8576b"
             ],
             [
              0.6666666666666666,
              "#ed7953"
             ],
             [
              0.7777777777777778,
              "#fb9f3a"
             ],
             [
              0.8888888888888888,
              "#fdca26"
             ],
             [
              1,
              "#f0f921"
             ]
            ],
            "type": "contour"
           }
          ],
          "contourcarpet": [
           {
            "colorbar": {
             "outlinewidth": 0,
             "ticks": ""
            },
            "type": "contourcarpet"
           }
          ],
          "heatmap": [
           {
            "colorbar": {
             "outlinewidth": 0,
             "ticks": ""
            },
            "colorscale": [
             [
              0,
              "#0d0887"
             ],
             [
              0.1111111111111111,
              "#46039f"
             ],
             [
              0.2222222222222222,
              "#7201a8"
             ],
             [
              0.3333333333333333,
              "#9c179e"
             ],
             [
              0.4444444444444444,
              "#bd3786"
             ],
             [
              0.5555555555555556,
              "#d8576b"
             ],
             [
              0.6666666666666666,
              "#ed7953"
             ],
             [
              0.7777777777777778,
              "#fb9f3a"
             ],
             [
              0.8888888888888888,
              "#fdca26"
             ],
             [
              1,
              "#f0f921"
             ]
            ],
            "type": "heatmap"
           }
          ],
          "heatmapgl": [
           {
            "colorbar": {
             "outlinewidth": 0,
             "ticks": ""
            },
            "colorscale": [
             [
              0,
              "#0d0887"
             ],
             [
              0.1111111111111111,
              "#46039f"
             ],
             [
              0.2222222222222222,
              "#7201a8"
             ],
             [
              0.3333333333333333,
              "#9c179e"
             ],
             [
              0.4444444444444444,
              "#bd3786"
             ],
             [
              0.5555555555555556,
              "#d8576b"
             ],
             [
              0.6666666666666666,
              "#ed7953"
             ],
             [
              0.7777777777777778,
              "#fb9f3a"
             ],
             [
              0.8888888888888888,
              "#fdca26"
             ],
             [
              1,
              "#f0f921"
             ]
            ],
            "type": "heatmapgl"
           }
          ],
          "histogram": [
           {
            "marker": {
             "pattern": {
              "fillmode": "overlay",
              "size": 10,
              "solidity": 0.2
             }
            },
            "type": "histogram"
           }
          ],
          "histogram2d": [
           {
            "colorbar": {
             "outlinewidth": 0,
             "ticks": ""
            },
            "colorscale": [
             [
              0,
              "#0d0887"
             ],
             [
              0.1111111111111111,
              "#46039f"
             ],
             [
              0.2222222222222222,
              "#7201a8"
             ],
             [
              0.3333333333333333,
              "#9c179e"
             ],
             [
              0.4444444444444444,
              "#bd3786"
             ],
             [
              0.5555555555555556,
              "#d8576b"
             ],
             [
              0.6666666666666666,
              "#ed7953"
             ],
             [
              0.7777777777777778,
              "#fb9f3a"
             ],
             [
              0.8888888888888888,
              "#fdca26"
             ],
             [
              1,
              "#f0f921"
             ]
            ],
            "type": "histogram2d"
           }
          ],
          "histogram2dcontour": [
           {
            "colorbar": {
             "outlinewidth": 0,
             "ticks": ""
            },
            "colorscale": [
             [
              0,
              "#0d0887"
             ],
             [
              0.1111111111111111,
              "#46039f"
             ],
             [
              0.2222222222222222,
              "#7201a8"
             ],
             [
              0.3333333333333333,
              "#9c179e"
             ],
             [
              0.4444444444444444,
              "#bd3786"
             ],
             [
              0.5555555555555556,
              "#d8576b"
             ],
             [
              0.6666666666666666,
              "#ed7953"
             ],
             [
              0.7777777777777778,
              "#fb9f3a"
             ],
             [
              0.8888888888888888,
              "#fdca26"
             ],
             [
              1,
              "#f0f921"
             ]
            ],
            "type": "histogram2dcontour"
           }
          ],
          "mesh3d": [
           {
            "colorbar": {
             "outlinewidth": 0,
             "ticks": ""
            },
            "type": "mesh3d"
           }
          ],
          "parcoords": [
           {
            "line": {
             "colorbar": {
              "outlinewidth": 0,
              "ticks": ""
             }
            },
            "type": "parcoords"
           }
          ],
          "pie": [
           {
            "automargin": true,
            "type": "pie"
           }
          ],
          "scatter": [
           {
            "fillpattern": {
             "fillmode": "overlay",
             "size": 10,
             "solidity": 0.2
            },
            "type": "scatter"
           }
          ],
          "scatter3d": [
           {
            "line": {
             "colorbar": {
              "outlinewidth": 0,
              "ticks": ""
             }
            },
            "marker": {
             "colorbar": {
              "outlinewidth": 0,
              "ticks": ""
             }
            },
            "type": "scatter3d"
           }
          ],
          "scattercarpet": [
           {
            "marker": {
             "colorbar": {
              "outlinewidth": 0,
              "ticks": ""
             }
            },
            "type": "scattercarpet"
           }
          ],
          "scattergeo": [
           {
            "marker": {
             "colorbar": {
              "outlinewidth": 0,
              "ticks": ""
             }
            },
            "type": "scattergeo"
           }
          ],
          "scattergl": [
           {
            "marker": {
             "colorbar": {
              "outlinewidth": 0,
              "ticks": ""
             }
            },
            "type": "scattergl"
           }
          ],
          "scattermapbox": [
           {
            "marker": {
             "colorbar": {
              "outlinewidth": 0,
              "ticks": ""
             }
            },
            "type": "scattermapbox"
           }
          ],
          "scatterpolar": [
           {
            "marker": {
             "colorbar": {
              "outlinewidth": 0,
              "ticks": ""
             }
            },
            "type": "scatterpolar"
           }
          ],
          "scatterpolargl": [
           {
            "marker": {
             "colorbar": {
              "outlinewidth": 0,
              "ticks": ""
             }
            },
            "type": "scatterpolargl"
           }
          ],
          "scatterternary": [
           {
            "marker": {
             "colorbar": {
              "outlinewidth": 0,
              "ticks": ""
             }
            },
            "type": "scatterternary"
           }
          ],
          "surface": [
           {
            "colorbar": {
             "outlinewidth": 0,
             "ticks": ""
            },
            "colorscale": [
             [
              0,
              "#0d0887"
             ],
             [
              0.1111111111111111,
              "#46039f"
             ],
             [
              0.2222222222222222,
              "#7201a8"
             ],
             [
              0.3333333333333333,
              "#9c179e"
             ],
             [
              0.4444444444444444,
              "#bd3786"
             ],
             [
              0.5555555555555556,
              "#d8576b"
             ],
             [
              0.6666666666666666,
              "#ed7953"
             ],
             [
              0.7777777777777778,
              "#fb9f3a"
             ],
             [
              0.8888888888888888,
              "#fdca26"
             ],
             [
              1,
              "#f0f921"
             ]
            ],
            "type": "surface"
           }
          ],
          "table": [
           {
            "cells": {
             "fill": {
              "color": "#EBF0F8"
             },
             "line": {
              "color": "white"
             }
            },
            "header": {
             "fill": {
              "color": "#C8D4E3"
             },
             "line": {
              "color": "white"
             }
            },
            "type": "table"
           }
          ]
         },
         "layout": {
          "annotationdefaults": {
           "arrowcolor": "#2a3f5f",
           "arrowhead": 0,
           "arrowwidth": 1
          },
          "autotypenumbers": "strict",
          "coloraxis": {
           "colorbar": {
            "outlinewidth": 0,
            "ticks": ""
           }
          },
          "colorscale": {
           "diverging": [
            [
             0,
             "#8e0152"
            ],
            [
             0.1,
             "#c51b7d"
            ],
            [
             0.2,
             "#de77ae"
            ],
            [
             0.3,
             "#f1b6da"
            ],
            [
             0.4,
             "#fde0ef"
            ],
            [
             0.5,
             "#f7f7f7"
            ],
            [
             0.6,
             "#e6f5d0"
            ],
            [
             0.7,
             "#b8e186"
            ],
            [
             0.8,
             "#7fbc41"
            ],
            [
             0.9,
             "#4d9221"
            ],
            [
             1,
             "#276419"
            ]
           ],
           "sequential": [
            [
             0,
             "#0d0887"
            ],
            [
             0.1111111111111111,
             "#46039f"
            ],
            [
             0.2222222222222222,
             "#7201a8"
            ],
            [
             0.3333333333333333,
             "#9c179e"
            ],
            [
             0.4444444444444444,
             "#bd3786"
            ],
            [
             0.5555555555555556,
             "#d8576b"
            ],
            [
             0.6666666666666666,
             "#ed7953"
            ],
            [
             0.7777777777777778,
             "#fb9f3a"
            ],
            [
             0.8888888888888888,
             "#fdca26"
            ],
            [
             1,
             "#f0f921"
            ]
           ],
           "sequentialminus": [
            [
             0,
             "#0d0887"
            ],
            [
             0.1111111111111111,
             "#46039f"
            ],
            [
             0.2222222222222222,
             "#7201a8"
            ],
            [
             0.3333333333333333,
             "#9c179e"
            ],
            [
             0.4444444444444444,
             "#bd3786"
            ],
            [
             0.5555555555555556,
             "#d8576b"
            ],
            [
             0.6666666666666666,
             "#ed7953"
            ],
            [
             0.7777777777777778,
             "#fb9f3a"
            ],
            [
             0.8888888888888888,
             "#fdca26"
            ],
            [
             1,
             "#f0f921"
            ]
           ]
          },
          "colorway": [
           "#636efa",
           "#EF553B",
           "#00cc96",
           "#ab63fa",
           "#FFA15A",
           "#19d3f3",
           "#FF6692",
           "#B6E880",
           "#FF97FF",
           "#FECB52"
          ],
          "font": {
           "color": "#2a3f5f"
          },
          "geo": {
           "bgcolor": "white",
           "lakecolor": "white",
           "landcolor": "#E5ECF6",
           "showlakes": true,
           "showland": true,
           "subunitcolor": "white"
          },
          "hoverlabel": {
           "align": "left"
          },
          "hovermode": "closest",
          "mapbox": {
           "style": "light"
          },
          "paper_bgcolor": "white",
          "plot_bgcolor": "#E5ECF6",
          "polar": {
           "angularaxis": {
            "gridcolor": "white",
            "linecolor": "white",
            "ticks": ""
           },
           "bgcolor": "#E5ECF6",
           "radialaxis": {
            "gridcolor": "white",
            "linecolor": "white",
            "ticks": ""
           }
          },
          "scene": {
           "xaxis": {
            "backgroundcolor": "#E5ECF6",
            "gridcolor": "white",
            "gridwidth": 2,
            "linecolor": "white",
            "showbackground": true,
            "ticks": "",
            "zerolinecolor": "white"
           },
           "yaxis": {
            "backgroundcolor": "#E5ECF6",
            "gridcolor": "white",
            "gridwidth": 2,
            "linecolor": "white",
            "showbackground": true,
            "ticks": "",
            "zerolinecolor": "white"
           },
           "zaxis": {
            "backgroundcolor": "#E5ECF6",
            "gridcolor": "white",
            "gridwidth": 2,
            "linecolor": "white",
            "showbackground": true,
            "ticks": "",
            "zerolinecolor": "white"
           }
          },
          "shapedefaults": {
           "line": {
            "color": "#2a3f5f"
           }
          },
          "ternary": {
           "aaxis": {
            "gridcolor": "white",
            "linecolor": "white",
            "ticks": ""
           },
           "baxis": {
            "gridcolor": "white",
            "linecolor": "white",
            "ticks": ""
           },
           "bgcolor": "#E5ECF6",
           "caxis": {
            "gridcolor": "white",
            "linecolor": "white",
            "ticks": ""
           }
          },
          "title": {
           "x": 0.05
          },
          "xaxis": {
           "automargin": true,
           "gridcolor": "white",
           "linecolor": "white",
           "ticks": "",
           "title": {
            "standoff": 15
           },
           "zerolinecolor": "white",
           "zerolinewidth": 2
          },
          "yaxis": {
           "automargin": true,
           "gridcolor": "white",
           "linecolor": "white",
           "ticks": "",
           "title": {
            "standoff": 15
           },
           "zerolinecolor": "white",
           "zerolinewidth": 2
          }
         }
        },
        "title": {
         "text": "Bigram Count Plots"
        },
        "width": 900,
        "xaxis": {
         "anchor": "y",
         "domain": [
          0,
          0.425
         ]
        },
        "xaxis2": {
         "anchor": "y2",
         "domain": [
          0.575,
          1
         ]
        },
        "yaxis": {
         "anchor": "x",
         "domain": [
          0,
          1
         ]
        },
        "yaxis2": {
         "anchor": "x2",
         "domain": [
          0,
          1
         ]
        }
       }
      }
     },
     "metadata": {},
     "output_type": "display_data"
    }
   ],
   "source": [
    "freq_dict = defaultdict(int)\n",
    "for sent in train0_df[\"comment\"]:\n",
    "    for word in generate_ngrams(sent,2):\n",
    "        freq_dict[word] += 1\n",
    "fd_sorted = pd.DataFrame(sorted(freq_dict.items(), key=lambda x: x[1])[::-1])\n",
    "fd_sorted.columns = [\"word\", \"wordcount\"]\n",
    "trace0 = horizontal_bar_chart(fd_sorted.head(50), 'orange')\n",
    "\n",
    "\n",
    "freq_dict = defaultdict(int)\n",
    "for sent in train1_df[\"comment\"]:\n",
    "    for word in generate_ngrams(sent,2):\n",
    "        freq_dict[word] += 1\n",
    "fd_sorted = pd.DataFrame(sorted(freq_dict.items(), key=lambda x: x[1])[::-1])\n",
    "fd_sorted.columns = [\"word\", \"wordcount\"]\n",
    "trace1 = horizontal_bar_chart(fd_sorted.head(50), 'orange')\n",
    "\n",
    "# Creating two subplots\n",
    "fig = tools.make_subplots(rows=1, cols=2, vertical_spacing=0.04,horizontal_spacing=0.15,\n",
    "                          subplot_titles=[\"Frequent bigrams of not sarcastic questions\", \n",
    "                                          \"Frequent bigrams of sarcastic questions\"])\n",
    "fig.append_trace(trace0, 1, 1)\n",
    "fig.append_trace(trace1, 1, 2)\n",
    "fig['layout'].update(height=1200, width=900, paper_bgcolor='rgb(233,233,233)', title=\"Bigram Count Plots\")\n",
    "py.iplot(fig, filename='word-plots')"
   ]
  },
  {
   "cell_type": "code",
   "execution_count": 26,
   "metadata": {},
   "outputs": [
    {
     "data": {
      "application/vnd.plotly.v1+json": {
       "config": {
        "linkText": "Export to plot.ly",
        "plotlyServerURL": "https://plot.ly",
        "showLink": false
       },
       "data": [
        {
         "marker": {
          "color": "green"
         },
         "orientation": "h",
         "showlegend": false,
         "type": "bar",
         "x": [
          130,
          131,
          132,
          133,
          133,
          135,
          139,
          139,
          139,
          139,
          141,
          141,
          188,
          188,
          199,
          199,
          200,
          223,
          286,
          290,
          359,
          361,
          383,
          383,
          400,
          419,
          419,
          442,
          475,
          527,
          527,
          529,
          538,
          614,
          618,
          690,
          783,
          783,
          899,
          899,
          908,
          908,
          1010,
          1069,
          1110,
          1110,
          1340,
          1692,
          2667,
          5243
         ],
         "xaxis": "x",
         "y": [
          "opieop opieop opieop",
          "sli smp nvidia",
          "edition sli smp",
          "founders edition sli",
          "smp nvidia gtx",
          "nvidia gtx 1080",
          "nope nope nope",
          "1070 1060 1050",
          "1060 1050 founders",
          "1050 founders edition",
          "1080 1070 1060",
          "gtx 1080 1070",
          "got nothing got",
          "nothing got nothing",
          "family trump first",
          "trump first family",
          "first family trump",
          "wsgy wsgy wsgy",
          "wat wat wat",
          "kek kek kek",
          "pc mac pc",
          "mac pc mac",
          "tronald dump tronald",
          "dump tronald dump",
          "genocide genocide genocide",
          "lm ayy lm",
          "ayy lm ayy",
          "flintstones flintstones flintstones",
          "cmd cmd cmd",
          "trumps hate love",
          "hate love trumps",
          "love trumps hate",
          "islam islam islam",
          "gjallarhorn gjallarhorn gjallarhorn",
          "ziggo ziggo ziggo",
          "im pretty sure",
          "donald trump donald",
          "trump donald trump",
          "fake news fake",
          "news fake news",
          "copy pasta copy",
          "pasta copy pasta",
          "raving raving raving",
          "liar liar liar",
          "iphone 7 iphone",
          "7 iphone 7",
          "jerry jerry jerry",
          "money money money",
          "comcast comcast comcast",
          "fuck fuck fuck"
         ],
         "yaxis": "y"
        },
        {
         "marker": {
          "color": "green"
         },
         "orientation": "h",
         "showlegend": false,
         "type": "bar",
         "x": [
          68,
          70,
          71,
          71,
          71,
          72,
          72,
          74,
          74,
          75,
          76,
          76,
          77,
          78,
          79,
          83,
          83,
          83,
          84,
          84,
          84,
          84,
          85,
          88,
          88,
          92,
          92,
          94,
          97,
          98,
          101,
          102,
          102,
          102,
          103,
          104,
          108,
          110,
          121,
          133,
          142,
          146,
          154,
          168,
          178,
          218,
          256,
          313,
          498,
          569
         ],
         "xaxis": "x2",
         "y": [
          "svchostexe svchostexe svchostexe",
          "cant see past",
          "im sure youre",
          "makes much sense",
          "people cant racist",
          "please tell forgot",
          "well good thing",
          "cant racist white",
          "dont worry im",
          "people dont know",
          "well im sure",
          "blah blah blah",
          "dont even know",
          "yes thats exactly",
          "im sure people",
          "works mysterious ways",
          "dont know man",
          "men cant raped",
          "white people racist",
          "make america great",
          "never heard one",
          "ha ha ha",
          "many many many",
          "know youre talking",
          "oh im sure",
          "yeah fuck people",
          "never gets old",
          "black people cant",
          "theres one thing",
          "dont worry guys",
          "im sure theyll",
          "didnt think needed",
          "dont know youre",
          "ive never heard",
          "dont see problem",
          "human eye see",
          "possibly go wrong",
          "racist white people",
          "makes perfect sense",
          "didnt see coming",
          "yeah youre right",
          "im sure thats",
          "cant wait see",
          "human eye cant",
          "eye cant see",
          "ive never seen",
          "yes im sure",
          "im sure will",
          "im pretty sure",
          "yeah im sure"
         ],
         "yaxis": "y2"
        }
       ],
       "layout": {
        "annotations": [
         {
          "font": {
           "size": 16
          },
          "showarrow": false,
          "text": "Frequent trigrams of not sarcastic comments",
          "x": 0.2,
          "xanchor": "center",
          "xref": "paper",
          "y": 1,
          "yanchor": "bottom",
          "yref": "paper"
         },
         {
          "font": {
           "size": 16
          },
          "showarrow": false,
          "text": "Frequent trigrams of sarcastic comments",
          "x": 0.8,
          "xanchor": "center",
          "xref": "paper",
          "y": 1,
          "yanchor": "bottom",
          "yref": "paper"
         }
        ],
        "height": 1200,
        "paper_bgcolor": "rgb(233,233,233)",
        "template": {
         "data": {
          "bar": [
           {
            "error_x": {
             "color": "#2a3f5f"
            },
            "error_y": {
             "color": "#2a3f5f"
            },
            "marker": {
             "line": {
              "color": "#E5ECF6",
              "width": 0.5
             },
             "pattern": {
              "fillmode": "overlay",
              "size": 10,
              "solidity": 0.2
             }
            },
            "type": "bar"
           }
          ],
          "barpolar": [
           {
            "marker": {
             "line": {
              "color": "#E5ECF6",
              "width": 0.5
             },
             "pattern": {
              "fillmode": "overlay",
              "size": 10,
              "solidity": 0.2
             }
            },
            "type": "barpolar"
           }
          ],
          "carpet": [
           {
            "aaxis": {
             "endlinecolor": "#2a3f5f",
             "gridcolor": "white",
             "linecolor": "white",
             "minorgridcolor": "white",
             "startlinecolor": "#2a3f5f"
            },
            "baxis": {
             "endlinecolor": "#2a3f5f",
             "gridcolor": "white",
             "linecolor": "white",
             "minorgridcolor": "white",
             "startlinecolor": "#2a3f5f"
            },
            "type": "carpet"
           }
          ],
          "choropleth": [
           {
            "colorbar": {
             "outlinewidth": 0,
             "ticks": ""
            },
            "type": "choropleth"
           }
          ],
          "contour": [
           {
            "colorbar": {
             "outlinewidth": 0,
             "ticks": ""
            },
            "colorscale": [
             [
              0,
              "#0d0887"
             ],
             [
              0.1111111111111111,
              "#46039f"
             ],
             [
              0.2222222222222222,
              "#7201a8"
             ],
             [
              0.3333333333333333,
              "#9c179e"
             ],
             [
              0.4444444444444444,
              "#bd3786"
             ],
             [
              0.5555555555555556,
              "#d8576b"
             ],
             [
              0.6666666666666666,
              "#ed7953"
             ],
             [
              0.7777777777777778,
              "#fb9f3a"
             ],
             [
              0.8888888888888888,
              "#fdca26"
             ],
             [
              1,
              "#f0f921"
             ]
            ],
            "type": "contour"
           }
          ],
          "contourcarpet": [
           {
            "colorbar": {
             "outlinewidth": 0,
             "ticks": ""
            },
            "type": "contourcarpet"
           }
          ],
          "heatmap": [
           {
            "colorbar": {
             "outlinewidth": 0,
             "ticks": ""
            },
            "colorscale": [
             [
              0,
              "#0d0887"
             ],
             [
              0.1111111111111111,
              "#46039f"
             ],
             [
              0.2222222222222222,
              "#7201a8"
             ],
             [
              0.3333333333333333,
              "#9c179e"
             ],
             [
              0.4444444444444444,
              "#bd3786"
             ],
             [
              0.5555555555555556,
              "#d8576b"
             ],
             [
              0.6666666666666666,
              "#ed7953"
             ],
             [
              0.7777777777777778,
              "#fb9f3a"
             ],
             [
              0.8888888888888888,
              "#fdca26"
             ],
             [
              1,
              "#f0f921"
             ]
            ],
            "type": "heatmap"
           }
          ],
          "heatmapgl": [
           {
            "colorbar": {
             "outlinewidth": 0,
             "ticks": ""
            },
            "colorscale": [
             [
              0,
              "#0d0887"
             ],
             [
              0.1111111111111111,
              "#46039f"
             ],
             [
              0.2222222222222222,
              "#7201a8"
             ],
             [
              0.3333333333333333,
              "#9c179e"
             ],
             [
              0.4444444444444444,
              "#bd3786"
             ],
             [
              0.5555555555555556,
              "#d8576b"
             ],
             [
              0.6666666666666666,
              "#ed7953"
             ],
             [
              0.7777777777777778,
              "#fb9f3a"
             ],
             [
              0.8888888888888888,
              "#fdca26"
             ],
             [
              1,
              "#f0f921"
             ]
            ],
            "type": "heatmapgl"
           }
          ],
          "histogram": [
           {
            "marker": {
             "pattern": {
              "fillmode": "overlay",
              "size": 10,
              "solidity": 0.2
             }
            },
            "type": "histogram"
           }
          ],
          "histogram2d": [
           {
            "colorbar": {
             "outlinewidth": 0,
             "ticks": ""
            },
            "colorscale": [
             [
              0,
              "#0d0887"
             ],
             [
              0.1111111111111111,
              "#46039f"
             ],
             [
              0.2222222222222222,
              "#7201a8"
             ],
             [
              0.3333333333333333,
              "#9c179e"
             ],
             [
              0.4444444444444444,
              "#bd3786"
             ],
             [
              0.5555555555555556,
              "#d8576b"
             ],
             [
              0.6666666666666666,
              "#ed7953"
             ],
             [
              0.7777777777777778,
              "#fb9f3a"
             ],
             [
              0.8888888888888888,
              "#fdca26"
             ],
             [
              1,
              "#f0f921"
             ]
            ],
            "type": "histogram2d"
           }
          ],
          "histogram2dcontour": [
           {
            "colorbar": {
             "outlinewidth": 0,
             "ticks": ""
            },
            "colorscale": [
             [
              0,
              "#0d0887"
             ],
             [
              0.1111111111111111,
              "#46039f"
             ],
             [
              0.2222222222222222,
              "#7201a8"
             ],
             [
              0.3333333333333333,
              "#9c179e"
             ],
             [
              0.4444444444444444,
              "#bd3786"
             ],
             [
              0.5555555555555556,
              "#d8576b"
             ],
             [
              0.6666666666666666,
              "#ed7953"
             ],
             [
              0.7777777777777778,
              "#fb9f3a"
             ],
             [
              0.8888888888888888,
              "#fdca26"
             ],
             [
              1,
              "#f0f921"
             ]
            ],
            "type": "histogram2dcontour"
           }
          ],
          "mesh3d": [
           {
            "colorbar": {
             "outlinewidth": 0,
             "ticks": ""
            },
            "type": "mesh3d"
           }
          ],
          "parcoords": [
           {
            "line": {
             "colorbar": {
              "outlinewidth": 0,
              "ticks": ""
             }
            },
            "type": "parcoords"
           }
          ],
          "pie": [
           {
            "automargin": true,
            "type": "pie"
           }
          ],
          "scatter": [
           {
            "fillpattern": {
             "fillmode": "overlay",
             "size": 10,
             "solidity": 0.2
            },
            "type": "scatter"
           }
          ],
          "scatter3d": [
           {
            "line": {
             "colorbar": {
              "outlinewidth": 0,
              "ticks": ""
             }
            },
            "marker": {
             "colorbar": {
              "outlinewidth": 0,
              "ticks": ""
             }
            },
            "type": "scatter3d"
           }
          ],
          "scattercarpet": [
           {
            "marker": {
             "colorbar": {
              "outlinewidth": 0,
              "ticks": ""
             }
            },
            "type": "scattercarpet"
           }
          ],
          "scattergeo": [
           {
            "marker": {
             "colorbar": {
              "outlinewidth": 0,
              "ticks": ""
             }
            },
            "type": "scattergeo"
           }
          ],
          "scattergl": [
           {
            "marker": {
             "colorbar": {
              "outlinewidth": 0,
              "ticks": ""
             }
            },
            "type": "scattergl"
           }
          ],
          "scattermapbox": [
           {
            "marker": {
             "colorbar": {
              "outlinewidth": 0,
              "ticks": ""
             }
            },
            "type": "scattermapbox"
           }
          ],
          "scatterpolar": [
           {
            "marker": {
             "colorbar": {
              "outlinewidth": 0,
              "ticks": ""
             }
            },
            "type": "scatterpolar"
           }
          ],
          "scatterpolargl": [
           {
            "marker": {
             "colorbar": {
              "outlinewidth": 0,
              "ticks": ""
             }
            },
            "type": "scatterpolargl"
           }
          ],
          "scatterternary": [
           {
            "marker": {
             "colorbar": {
              "outlinewidth": 0,
              "ticks": ""
             }
            },
            "type": "scatterternary"
           }
          ],
          "surface": [
           {
            "colorbar": {
             "outlinewidth": 0,
             "ticks": ""
            },
            "colorscale": [
             [
              0,
              "#0d0887"
             ],
             [
              0.1111111111111111,
              "#46039f"
             ],
             [
              0.2222222222222222,
              "#7201a8"
             ],
             [
              0.3333333333333333,
              "#9c179e"
             ],
             [
              0.4444444444444444,
              "#bd3786"
             ],
             [
              0.5555555555555556,
              "#d8576b"
             ],
             [
              0.6666666666666666,
              "#ed7953"
             ],
             [
              0.7777777777777778,
              "#fb9f3a"
             ],
             [
              0.8888888888888888,
              "#fdca26"
             ],
             [
              1,
              "#f0f921"
             ]
            ],
            "type": "surface"
           }
          ],
          "table": [
           {
            "cells": {
             "fill": {
              "color": "#EBF0F8"
             },
             "line": {
              "color": "white"
             }
            },
            "header": {
             "fill": {
              "color": "#C8D4E3"
             },
             "line": {
              "color": "white"
             }
            },
            "type": "table"
           }
          ]
         },
         "layout": {
          "annotationdefaults": {
           "arrowcolor": "#2a3f5f",
           "arrowhead": 0,
           "arrowwidth": 1
          },
          "autotypenumbers": "strict",
          "coloraxis": {
           "colorbar": {
            "outlinewidth": 0,
            "ticks": ""
           }
          },
          "colorscale": {
           "diverging": [
            [
             0,
             "#8e0152"
            ],
            [
             0.1,
             "#c51b7d"
            ],
            [
             0.2,
             "#de77ae"
            ],
            [
             0.3,
             "#f1b6da"
            ],
            [
             0.4,
             "#fde0ef"
            ],
            [
             0.5,
             "#f7f7f7"
            ],
            [
             0.6,
             "#e6f5d0"
            ],
            [
             0.7,
             "#b8e186"
            ],
            [
             0.8,
             "#7fbc41"
            ],
            [
             0.9,
             "#4d9221"
            ],
            [
             1,
             "#276419"
            ]
           ],
           "sequential": [
            [
             0,
             "#0d0887"
            ],
            [
             0.1111111111111111,
             "#46039f"
            ],
            [
             0.2222222222222222,
             "#7201a8"
            ],
            [
             0.3333333333333333,
             "#9c179e"
            ],
            [
             0.4444444444444444,
             "#bd3786"
            ],
            [
             0.5555555555555556,
             "#d8576b"
            ],
            [
             0.6666666666666666,
             "#ed7953"
            ],
            [
             0.7777777777777778,
             "#fb9f3a"
            ],
            [
             0.8888888888888888,
             "#fdca26"
            ],
            [
             1,
             "#f0f921"
            ]
           ],
           "sequentialminus": [
            [
             0,
             "#0d0887"
            ],
            [
             0.1111111111111111,
             "#46039f"
            ],
            [
             0.2222222222222222,
             "#7201a8"
            ],
            [
             0.3333333333333333,
             "#9c179e"
            ],
            [
             0.4444444444444444,
             "#bd3786"
            ],
            [
             0.5555555555555556,
             "#d8576b"
            ],
            [
             0.6666666666666666,
             "#ed7953"
            ],
            [
             0.7777777777777778,
             "#fb9f3a"
            ],
            [
             0.8888888888888888,
             "#fdca26"
            ],
            [
             1,
             "#f0f921"
            ]
           ]
          },
          "colorway": [
           "#636efa",
           "#EF553B",
           "#00cc96",
           "#ab63fa",
           "#FFA15A",
           "#19d3f3",
           "#FF6692",
           "#B6E880",
           "#FF97FF",
           "#FECB52"
          ],
          "font": {
           "color": "#2a3f5f"
          },
          "geo": {
           "bgcolor": "white",
           "lakecolor": "white",
           "landcolor": "#E5ECF6",
           "showlakes": true,
           "showland": true,
           "subunitcolor": "white"
          },
          "hoverlabel": {
           "align": "left"
          },
          "hovermode": "closest",
          "mapbox": {
           "style": "light"
          },
          "paper_bgcolor": "white",
          "plot_bgcolor": "#E5ECF6",
          "polar": {
           "angularaxis": {
            "gridcolor": "white",
            "linecolor": "white",
            "ticks": ""
           },
           "bgcolor": "#E5ECF6",
           "radialaxis": {
            "gridcolor": "white",
            "linecolor": "white",
            "ticks": ""
           }
          },
          "scene": {
           "xaxis": {
            "backgroundcolor": "#E5ECF6",
            "gridcolor": "white",
            "gridwidth": 2,
            "linecolor": "white",
            "showbackground": true,
            "ticks": "",
            "zerolinecolor": "white"
           },
           "yaxis": {
            "backgroundcolor": "#E5ECF6",
            "gridcolor": "white",
            "gridwidth": 2,
            "linecolor": "white",
            "showbackground": true,
            "ticks": "",
            "zerolinecolor": "white"
           },
           "zaxis": {
            "backgroundcolor": "#E5ECF6",
            "gridcolor": "white",
            "gridwidth": 2,
            "linecolor": "white",
            "showbackground": true,
            "ticks": "",
            "zerolinecolor": "white"
           }
          },
          "shapedefaults": {
           "line": {
            "color": "#2a3f5f"
           }
          },
          "ternary": {
           "aaxis": {
            "gridcolor": "white",
            "linecolor": "white",
            "ticks": ""
           },
           "baxis": {
            "gridcolor": "white",
            "linecolor": "white",
            "ticks": ""
           },
           "bgcolor": "#E5ECF6",
           "caxis": {
            "gridcolor": "white",
            "linecolor": "white",
            "ticks": ""
           }
          },
          "title": {
           "x": 0.05
          },
          "xaxis": {
           "automargin": true,
           "gridcolor": "white",
           "linecolor": "white",
           "ticks": "",
           "title": {
            "standoff": 15
           },
           "zerolinecolor": "white",
           "zerolinewidth": 2
          },
          "yaxis": {
           "automargin": true,
           "gridcolor": "white",
           "linecolor": "white",
           "ticks": "",
           "title": {
            "standoff": 15
           },
           "zerolinecolor": "white",
           "zerolinewidth": 2
          }
         }
        },
        "title": {
         "text": "Trigram Count Plots"
        },
        "width": 1200,
        "xaxis": {
         "anchor": "y",
         "domain": [
          0,
          0.4
         ]
        },
        "xaxis2": {
         "anchor": "y2",
         "domain": [
          0.6000000000000001,
          1
         ]
        },
        "yaxis": {
         "anchor": "x",
         "domain": [
          0,
          1
         ]
        },
        "yaxis2": {
         "anchor": "x2",
         "domain": [
          0,
          1
         ]
        }
       }
      }
     },
     "metadata": {},
     "output_type": "display_data"
    }
   ],
   "source": [
    "freq_dict = defaultdict(int)\n",
    "for sent in train0_df[\"comment\"]:\n",
    "    for word in generate_ngrams(sent,3):\n",
    "        freq_dict[word] += 1\n",
    "fd_sorted = pd.DataFrame(sorted(freq_dict.items(), key=lambda x: x[1])[::-1])\n",
    "fd_sorted.columns = [\"word\", \"wordcount\"]\n",
    "trace0 = horizontal_bar_chart(fd_sorted.head(50), 'green')\n",
    "\n",
    "\n",
    "freq_dict = defaultdict(int)\n",
    "for sent in train1_df[\"comment\"]:\n",
    "    for word in generate_ngrams(sent,3):\n",
    "        freq_dict[word] += 1\n",
    "fd_sorted = pd.DataFrame(sorted(freq_dict.items(), key=lambda x: x[1])[::-1])\n",
    "fd_sorted.columns = [\"word\", \"wordcount\"]\n",
    "trace1 = horizontal_bar_chart(fd_sorted.head(50), 'green')\n",
    "\n",
    "# Creating two subplots\n",
    "fig = tools.make_subplots(rows=1, cols=2, vertical_spacing=0.04, horizontal_spacing=0.2,\n",
    "                          subplot_titles=[\"Frequent trigrams of not sarcastic comments\", \n",
    "                                          \"Frequent trigrams of sarcastic comments\"])\n",
    "fig.append_trace(trace0, 1, 1)\n",
    "fig.append_trace(trace1, 1, 2)\n",
    "fig['layout'].update(height=1200, width=1200, paper_bgcolor='rgb(233,233,233)', title=\"Trigram Count Plots\")\n",
    "py.iplot(fig, filename='word-plots')"
   ]
  },
  {
   "cell_type": "code",
   "execution_count": 27,
   "metadata": {},
   "outputs": [
    {
     "data": {
      "text/plain": [
       "Counter({('in', 'the'): 13376,\n",
       "         ('of', 'the'): 12002,\n",
       "         ('to', 'be'): 8307,\n",
       "         ('is', 'a'): 7637,\n",
       "         ('on', 'the'): 6672,\n",
       "         ('for', 'the'): 6216,\n",
       "         ('to', 'the'): 6131,\n",
       "         ('all', 'the'): 5358,\n",
       "         ('is', 'the'): 5180,\n",
       "         ('going', 'to'): 4478,\n",
       "         ('have', 'to'): 4445,\n",
       "         ('if', 'you'): 4173,\n",
       "         ('have', 'a'): 3812,\n",
       "         ('in', 'a'): 3796,\n",
       "         ('to', 'get'): 3748,\n",
       "         ('the', 'same'): 3584,\n",
       "         ('this', 'is'): 3562,\n",
       "         ('need', 'to'): 3516,\n",
       "         ('it', 'was'): 3505,\n",
       "         ('out', 'of'): 3416,\n",
       "         ('they', 'are'): 3367,\n",
       "         ('want', 'to'): 3344,\n",
       "         ('with', 'the'): 3333,\n",
       "         ('be', 'a'): 3317,\n",
       "         ('would', 'be'): 3283,\n",
       "         ('must', 'be'): 3267,\n",
       "         ('to', 'do'): 3208,\n",
       "         ('like', 'a'): 3206,\n",
       "         ('you', 'know'): 3163,\n",
       "         ('its', 'not'): 2955,\n",
       "         ('of', 'a'): 2847,\n",
       "         ('for', 'a'): 2846,\n",
       "         ('and', 'the'): 2833,\n",
       "         ('you', 'can'): 2818,\n",
       "         ('you', 'are'): 2804,\n",
       "         ('to', 'make'): 2788,\n",
       "         ('will', 'be'): 2770,\n",
       "         ('was', 'a'): 2739,\n",
       "         ('you', 'dont'): 2736,\n",
       "         ('should', 'be'): 2678,\n",
       "         ('you', 'have'): 2654,\n",
       "         ('with', 'a'): 2564,\n",
       "         ('the', 'only'): 2562,\n",
       "         ('from', 'the'): 2547,\n",
       "         ('at', 'the'): 2466,\n",
       "         ('such', 'a'): 2465,\n",
       "         ('it', 'is'): 2389,\n",
       "         ('is', 'so'): 2368,\n",
       "         ('he', 'was'): 2337,\n",
       "         ('im', 'sure'): 2330,\n",
       "         ('a', 'good'): 2327,\n",
       "         ('are', 'the'): 2321,\n",
       "         ('so', 'much'): 2292,\n",
       "         ('the', 'best'): 2283,\n",
       "         ('trying', 'to'): 2255,\n",
       "         ('to', 'see'): 2245,\n",
       "         ('as', 'a'): 2227,\n",
       "         ('not', 'a'): 2211,\n",
       "         ('would', 'have'): 2201,\n",
       "         ('that', 'the'): 2194,\n",
       "         ('should', 'have'): 2176,\n",
       "         ('i', 'dont'): 2128,\n",
       "         ('to', 'have'): 2073,\n",
       "         ('just', 'a'): 2059,\n",
       "         ('its', 'a'): 2001,\n",
       "         ('like', 'the'): 1997,\n",
       "         ('about', 'the'): 1978,\n",
       "         ('a', 'great'): 1961,\n",
       "         ('is', 'just'): 1912,\n",
       "         ('the', 'game'): 1910,\n",
       "         ('on', 'a'): 1907,\n",
       "         ('way', 'to'): 1890,\n",
       "         ('have', 'been'): 1882,\n",
       "         ('all', 'of'): 1876,\n",
       "         ('at', 'least'): 1830,\n",
       "         ('one', 'of'): 1801,\n",
       "         ('dont', 'know'): 1793,\n",
       "         ('that', 'is'): 1788,\n",
       "         ('by', 'the'): 1779,\n",
       "         ('i', 'can'): 1763,\n",
       "         ('when', 'you'): 1750,\n",
       "         ('dont', 'have'): 1728,\n",
       "         ('to', 'a'): 1692,\n",
       "         ('what', 'a'): 1684,\n",
       "         ('because', 'the'): 1670,\n",
       "         ('he', 'is'): 1669,\n",
       "         ('able', 'to'): 1665,\n",
       "         ('no', 'one'): 1644,\n",
       "         ('if', 'they'): 1631,\n",
       "         ('cant', 'be'): 1627,\n",
       "         ('has', 'a'): 1610,\n",
       "         ('do', 'you'): 1603,\n",
       "         ('we', 'should'): 1598,\n",
       "         ('a', 'lot'): 1593,\n",
       "         ('we', 'have'): 1588,\n",
       "         ('i', 'thought'): 1577,\n",
       "         ('get', 'a'): 1574,\n",
       "         ('the', 'first'): 1570,\n",
       "         ('better', 'than'): 1568,\n",
       "         ('know', 'that'): 1563,\n",
       "         ('people', 'who'): 1557,\n",
       "         ('the', 'world'): 1552,\n",
       "         ('and', 'not'): 1544,\n",
       "         ('you', 'cant'): 1543,\n",
       "         ('not', 'like'): 1540,\n",
       "         ('because', 'they'): 1534,\n",
       "         ('they', 'have'): 1523,\n",
       "         ('we', 'can'): 1506,\n",
       "         ('i', 'have'): 1506,\n",
       "         ('we', 'all'): 1505,\n",
       "         ('i', 'was'): 1499,\n",
       "         ('there', 'is'): 1478,\n",
       "         ('i', 'think'): 1471,\n",
       "         ('the', 'most'): 1451,\n",
       "         ('we', 'need'): 1445,\n",
       "         ('because', 'of'): 1424,\n",
       "         ('you', 'should'): 1419,\n",
       "         ('is', 'not'): 1415,\n",
       "         ('people', 'are'): 1407,\n",
       "         ('have', 'the'): 1406,\n",
       "         ('that', 'you'): 1402,\n",
       "         ('think', 'you'): 1396,\n",
       "         ('i', 'am'): 1373,\n",
       "         ('the', 'other'): 1369,\n",
       "         ('they', 'were'): 1367,\n",
       "         ('supposed', 'to'): 1360,\n",
       "         ('you', 'just'): 1353,\n",
       "         ('all', 'those'): 1336,\n",
       "         ('be', 'the'): 1334,\n",
       "         ('are', 'you'): 1331,\n",
       "         ('and', 'i'): 1328,\n",
       "         ('it', 'to'): 1320,\n",
       "         ('but', 'i'): 1305,\n",
       "         ('in', 'this'): 1300,\n",
       "         ('they', 'dont'): 1282,\n",
       "         ('instead', 'of'): 1273,\n",
       "         ('that', 'was'): 1269,\n",
       "         ('and', 'a'): 1268,\n",
       "         ('at', 'all'): 1257,\n",
       "         ('do', 'with'): 1247,\n",
       "         ('part', 'of'): 1245,\n",
       "         ('are', 'so'): 1243,\n",
       "         ('was', 'the'): 1240,\n",
       "         ('all', 'know'): 1239,\n",
       "         ('kind', 'of'): 1239,\n",
       "         ('so', 'it'): 1236,\n",
       "         ('to', 'go'): 1228,\n",
       "         ('i', 'guess'): 1194,\n",
       "         ('that', 'they'): 1179,\n",
       "         ('thats', 'why'): 1174,\n",
       "         ('so', 'its'): 1169,\n",
       "         ('just', 'like'): 1158,\n",
       "         ('you', 'get'): 1152,\n",
       "         ('so', 'i'): 1149,\n",
       "         ('more', 'than'): 1144,\n",
       "         ('is', 'totally'): 1141,\n",
       "         ('dont', 'you'): 1141,\n",
       "         ('talking', 'about'): 1138,\n",
       "         ('i', 'cant'): 1134,\n",
       "         ('is', 'that'): 1131,\n",
       "         ('to', 'play'): 1131,\n",
       "         ('there', 'are'): 1130,\n",
       "         ('are', 'just'): 1122,\n",
       "         ('they', 'can'): 1121,\n",
       "         ('a', 'few'): 1116,\n",
       "         ('lot', 'of'): 1114,\n",
       "         ('i', 'mean'): 1114,\n",
       "         ('is', 'why'): 1110,\n",
       "         ('can', 'be'): 1107,\n",
       "         ('its', 'the'): 1097,\n",
       "         ('so', 'they'): 1095,\n",
       "         ('a', 'new'): 1092,\n",
       "         ('a', 'real'): 1092,\n",
       "         ('of', 'course'): 1080,\n",
       "         ('of', 'those'): 1077,\n",
       "         ('and', 'you'): 1077,\n",
       "         ('you', 'mean'): 1075,\n",
       "         ('nothing', 'to'): 1073,\n",
       "         ('that', 'would'): 1073,\n",
       "         ('when', 'they'): 1062,\n",
       "         ('them', 'to'): 1055,\n",
       "         ('go', 'to'): 1055,\n",
       "         ('be', 'able'): 1049,\n",
       "         ('we', 'are'): 1045,\n",
       "         ('into', 'the'): 1039,\n",
       "         ('how', 'to'): 1038,\n",
       "         ('they', 'should'): 1035,\n",
       "         ('of', 'their'): 1035,\n",
       "         ('because', 'you'): 1032,\n",
       "         ('when', 'i'): 1025,\n",
       "         ('to', 'take'): 1023,\n",
       "         ('had', 'a'): 1020,\n",
       "         ('you', 'to'): 1017,\n",
       "         ('know', 'what'): 1012,\n",
       "         ('look', 'at'): 1005,\n",
       "         ('is', 'going'): 1005,\n",
       "         ('make', 'a'): 1003,\n",
       "         ('of', 'your'): 1002,\n",
       "         ('are', 'a'): 999,\n",
       "         ('the', 'us'): 994,\n",
       "         ('has', 'to'): 992,\n",
       "         ('it', 'would'): 989,\n",
       "         ('if', 'the'): 986,\n",
       "         ('of', 'all'): 984,\n",
       "         ('back', 'to'): 981,\n",
       "         ('if', 'i'): 979,\n",
       "         ('its', 'just'): 978,\n",
       "         ('is', 'an'): 977,\n",
       "         ('get', 'the'): 976,\n",
       "         ('not', 'the'): 966,\n",
       "         ('we', 'dont'): 964,\n",
       "         ('needs', 'to'): 964,\n",
       "         ('he', 'has'): 963,\n",
       "         ('if', 'we'): 962,\n",
       "         ('that', 'i'): 960,\n",
       "         ('so', 'that'): 959,\n",
       "         ('long', 'as'): 957,\n",
       "         ('and', 'then'): 957,\n",
       "         ('the', 'right'): 951,\n",
       "         ('the', 'people'): 949,\n",
       "         ('being', 'a'): 942,\n",
       "         ('have', 'no'): 938,\n",
       "         ('see', 'the'): 937,\n",
       "         ('with', 'your'): 936,\n",
       "         ('youre', 'a'): 936,\n",
       "         ('if', 'it'): 935,\n",
       "         ('dare', 'you'): 933,\n",
       "         ('was', 'just'): 932,\n",
       "         ('if', 'he'): 931,\n",
       "         ('because', 'he'): 929,\n",
       "         ('everyone', 'knows'): 924,\n",
       "         ('make', 'it'): 924,\n",
       "         ('hes', 'a'): 921,\n",
       "         ('you', 'need'): 916,\n",
       "         ('you', 'forgot'): 914,\n",
       "         ('the', 'new'): 912,\n",
       "         ('dont', 'want'): 911,\n",
       "         ('sounds', 'like'): 904,\n",
       "         ('as', 'the'): 903,\n",
       "         ('time', 'to'): 898,\n",
       "         ('in', 'my'): 894,\n",
       "         ('to', 'use'): 893,\n",
       "         ('because', 'its'): 892,\n",
       "         ('is', 'to'): 891,\n",
       "         ('has', 'been'): 887,\n",
       "         ('you', 'want'): 883,\n",
       "         ('sure', 'the'): 878,\n",
       "         ('to', 'say'): 877,\n",
       "         ('are', 'all'): 877,\n",
       "         ('do', 'it'): 874,\n",
       "         ('all', 'that'): 869,\n",
       "         ('the', 'last'): 868,\n",
       "         ('of', 'them'): 860,\n",
       "         ('could', 'have'): 854,\n",
       "         ('white', 'people'): 853,\n",
       "         ('the', 'whole'): 852,\n",
       "         ('should', 'just'): 851,\n",
       "         ('the', 'way'): 849,\n",
       "         ('it', 'will'): 849,\n",
       "         ('to', 'know'): 847,\n",
       "         ('in', 'your'): 845,\n",
       "         ('of', 'his'): 840,\n",
       "         ('enough', 'to'): 835,\n",
       "         ('you', 'for'): 834,\n",
       "         ('that', 'makes'): 833,\n",
       "         ('the', 'rest'): 830,\n",
       "         ('what', 'the'): 829,\n",
       "         ('you', 'were'): 829,\n",
       "         ('what', 'you'): 828,\n",
       "         ('of', 'this'): 826,\n",
       "         ('the', 'government'): 825,\n",
       "         ('so', 'you'): 824,\n",
       "         ('i', 'know'): 819,\n",
       "         ('wants', 'to'): 817,\n",
       "         ('as', 'well'): 817,\n",
       "         ('up', 'to'): 817,\n",
       "         ('of', 'my'): 815,\n",
       "         ('allowed', 'to'): 814,\n",
       "         ('to', 'keep'): 812,\n",
       "         ('it', 'in'): 811,\n",
       "         ('it', 'for'): 811,\n",
       "         ('and', 'they'): 805,\n",
       "         ('than', 'the'): 805,\n",
       "         ('the', 'real'): 805,\n",
       "         ('had', 'to'): 805,\n",
       "         ('and', 'we'): 805,\n",
       "         ('like', 'that'): 802,\n",
       "         ('rest', 'of'): 798,\n",
       "         ('the', 'internet'): 798,\n",
       "         ('bunch', 'of'): 797,\n",
       "         ('know', 'how'): 796,\n",
       "         ('so', 'he'): 792,\n",
       "         ('that', 'he'): 791,\n",
       "         ('dont', 'like'): 791,\n",
       "         ('is', 'no'): 790,\n",
       "         ('theres', 'no'): 790,\n",
       "         ('it', 'must'): 789,\n",
       "         ('on', 'this'): 788,\n",
       "         ('dont', 'think'): 785,\n",
       "         ('it', 'doesnt'): 785,\n",
       "         ('in', 'their'): 784,\n",
       "         ('of', 'people'): 782,\n",
       "         ('think', 'of'): 779,\n",
       "         ('over', 'the'): 778,\n",
       "         ('the', 'time'): 774,\n",
       "         ('from', 'a'): 774,\n",
       "         ('a', 'little'): 770,\n",
       "         ('but', 'the'): 770,\n",
       "         ('because', 'i'): 768,\n",
       "         ('the', 'next'): 767,\n",
       "         ('you', 'could'): 767,\n",
       "         ('forgot', 'to'): 764,\n",
       "         ('black', 'people'): 764,\n",
       "         ('for', 'your'): 761,\n",
       "         ('no', 'way'): 760,\n",
       "         ('its', 'all'): 760,\n",
       "         ('because', 'it'): 759,\n",
       "         ('like', 'you'): 758,\n",
       "         ('what', 'i'): 757,\n",
       "         ('dont', 'get'): 757,\n",
       "         ('isnt', 'a'): 757,\n",
       "         ('sure', 'that'): 754,\n",
       "         ('you', 'see'): 746,\n",
       "         ('thats', 'what'): 746,\n",
       "         ('must', 'have'): 744,\n",
       "         ('of', 'that'): 739,\n",
       "         ('i', 'want'): 739,\n",
       "         ('a', 'bunch'): 739,\n",
       "         ('on', 'your'): 737,\n",
       "         ('wait', 'for'): 735,\n",
       "         ('for', 'their'): 735,\n",
       "         ('know', 'the'): 734,\n",
       "         ('when', 'the'): 734,\n",
       "         ('would', 'never'): 733,\n",
       "         ('so', 'we'): 733,\n",
       "         ('hard', 'to'): 732,\n",
       "         ('you', 'dropped'): 731,\n",
       "         ('much', 'better'): 731,\n",
       "         ('the', 'one'): 730,\n",
       "         ('thats', 'a'): 727,\n",
       "         ('on', 'my'): 727,\n",
       "         ('i', 'should'): 726,\n",
       "         ('i', 'just'): 724,\n",
       "         ('because', 'we'): 723,\n",
       "         ('a', 'woman'): 719,\n",
       "         ('you', 'guys'): 716,\n",
       "         ('are', 'not'): 715,\n",
       "         ('that', 'will'): 714,\n",
       "         ('i', 'didnt'): 714,\n",
       "         ('youre', 'not'): 713,\n",
       "         ('make', 'the'): 711,\n",
       "         ('dont', 'understand'): 709,\n",
       "         ('looks', 'like'): 709,\n",
       "         ('to', 'pay'): 706,\n",
       "         ('it', 'has'): 705,\n",
       "         ('so', 'many'): 705,\n",
       "         ('thats', 'the'): 704,\n",
       "         ('could', 'be'): 703,\n",
       "         ('that', 'we'): 703,\n",
       "         ('doesnt', 'have'): 699,\n",
       "         ('and', 'that'): 699,\n",
       "         ('need', 'a'): 697,\n",
       "         ('the', 'guy'): 696,\n",
       "         ('get', 'to'): 693,\n",
       "         ('for', 'that'): 691,\n",
       "         ('people', 'in'): 690,\n",
       "         ('they', 'will'): 690,\n",
       "         ('is', 'in'): 690,\n",
       "         ('i', 'forgot'): 689,\n",
       "         ('to', 'give'): 687,\n",
       "         ('people', 'to'): 685,\n",
       "         ('in', 'that'): 683,\n",
       "         ('their', 'own'): 680,\n",
       "         ('at', 'a'): 680,\n",
       "         ('it', 'and'): 679,\n",
       "         ('into', 'a'): 679,\n",
       "         ('off', 'the'): 677,\n",
       "         ('be', 'so'): 675,\n",
       "         ('a', 'better'): 675,\n",
       "         ('much', 'more'): 674,\n",
       "         ('if', 'youre'): 671,\n",
       "         ('for', 'not'): 671,\n",
       "         ('is', 'such'): 668,\n",
       "         ('can', 'get'): 668,\n",
       "         ('got', 'a'): 665,\n",
       "         ('they', 'just'): 664,\n",
       "         ('and', 'it'): 663,\n",
       "         ('what', 'they'): 663,\n",
       "         ('how', 'much'): 663,\n",
       "         ('is', 'only'): 662,\n",
       "         ('is', 'clearly'): 662,\n",
       "         ('try', 'to'): 661,\n",
       "         ('out', 'the'): 659,\n",
       "         ('not', 'to'): 659,\n",
       "         ('but', 'but'): 656,\n",
       "         ('you', 'think'): 656,\n",
       "         ('with', 'that'): 656,\n",
       "         ('like', 'this'): 654,\n",
       "         ('live', 'in'): 653,\n",
       "         ('can', 'only'): 653,\n",
       "         ('get', 'it'): 649,\n",
       "         ('to', 'kill'): 648,\n",
       "         ('did', 'you'): 648,\n",
       "         ('on', 'their'): 647,\n",
       "         ('up', 'and'): 646,\n",
       "         ('this', 'guy'): 645,\n",
       "         ('is', 'obviously'): 644,\n",
       "         ('if', 'its'): 643,\n",
       "         ('i', 'would'): 643,\n",
       "         ('of', 'our'): 640,\n",
       "         ('that', 'a'): 637,\n",
       "         ('it', 'on'): 636,\n",
       "         ('a', 'bad'): 636,\n",
       "         ('it', 'so'): 636,\n",
       "         ('she', 'was'): 634,\n",
       "         ('he', 'didnt'): 634,\n",
       "         ('dont', 'need'): 634,\n",
       "         ('up', 'the'): 633,\n",
       "         ('exactly', 'what'): 633,\n",
       "         ('to', 'buy'): 631,\n",
       "         ('to', 'put'): 631,\n",
       "         ('in', 'his'): 630,\n",
       "         ('right', 'to'): 628,\n",
       "         ('but', 'you'): 628,\n",
       "         ('on', 'reddit'): 627,\n",
       "         ('there', 'was'): 626,\n",
       "         ('him', 'to'): 625,\n",
       "         ('up', 'with'): 624,\n",
       "         ('to', 'stop'): 623,\n",
       "         ('didnt', 'know'): 615,\n",
       "         ('you', 'didnt'): 614,\n",
       "         ('dont', 'see'): 614,\n",
       "         ('cant', 'wait'): 613,\n",
       "         ('that', 'one'): 610,\n",
       "         ('be', 'in'): 608,\n",
       "         ('to', 'your'): 607,\n",
       "         ('tell', 'me'): 605,\n",
       "         ('for', 'being'): 605,\n",
       "         ('a', 'big'): 604,\n",
       "         ('thats', 'not'): 602,\n",
       "         ('fact', 'that'): 601,\n",
       "         ('pretty', 'sure'): 600,\n",
       "         ('be', 'fair'): 598,\n",
       "         ('was', 'so'): 595,\n",
       "         ('makes', 'it'): 595,\n",
       "         ('he', 'can'): 595,\n",
       "         ('a', 'man'): 592,\n",
       "         ('make', 'sure'): 592,\n",
       "         ('that', 'it'): 592,\n",
       "         ('is', 'really'): 590,\n",
       "         ('like', 'to'): 590,\n",
       "         ('and', 'all'): 589,\n",
       "         ('wanted', 'to'): 589,\n",
       "         ('women', 'are'): 589,\n",
       "         ('pay', 'for'): 588,\n",
       "         ('the', 'good'): 586,\n",
       "         ('and', 'get'): 585,\n",
       "         ('with', 'their'): 585,\n",
       "         ('who', 'are'): 585,\n",
       "         ('but', 'its'): 583,\n",
       "         ('as', 'long'): 583,\n",
       "         ('up', 'for'): 582,\n",
       "         ('is', 'what'): 580,\n",
       "         ('you', 'a'): 580,\n",
       "         ('and', 'its'): 579,\n",
       "         ('to', 'work'): 579,\n",
       "         ('for', 'all'): 578,\n",
       "         ('the', 'entire'): 574,\n",
       "         ('can', 'do'): 573,\n",
       "         ('having', 'a'): 573,\n",
       "         ('i', 'get'): 571,\n",
       "         ('have', 'an'): 571,\n",
       "         ('by', 'a'): 568,\n",
       "         ('how', 'dare'): 564,\n",
       "         ('he', 'doesnt'): 564,\n",
       "         ('they', 'would'): 564,\n",
       "         ('when', 'he'): 563,\n",
       "         ('the', 'end'): 563,\n",
       "         ('good', 'thing'): 561,\n",
       "         ('about', 'how'): 560,\n",
       "         ('see', 'that'): 560,\n",
       "         ('a', 'game'): 559,\n",
       "         ('use', 'the'): 559,\n",
       "         ('cant', 'see'): 558,\n",
       "         ('wouldnt', 'have'): 558,\n",
       "         ('can', 'see'): 557,\n",
       "         ('sound', 'like'): 557,\n",
       "         ('which', 'is'): 555,\n",
       "         ('too', 'much'): 555,\n",
       "         ('and', 'have'): 552,\n",
       "         ('is', 'always'): 551,\n",
       "         ('its', 'so'): 551,\n",
       "         ('game', 'is'): 550,\n",
       "         ('to', 'tell'): 549,\n",
       "         ('she', 'is'): 548,\n",
       "         ('is', 'more'): 548,\n",
       "         ('like', 'they'): 546,\n",
       "         ('care', 'about'): 545,\n",
       "         ('year', 'old'): 544,\n",
       "         ('has', 'the'): 544,\n",
       "         ('do', 'that'): 544,\n",
       "         ('im', 'not'): 542,\n",
       "         ('they', 'didnt'): 541,\n",
       "         ('for', 'this'): 540,\n",
       "         ('on', 'his'): 538,\n",
       "         ('that', 'are'): 538,\n",
       "         ('than', 'a'): 537,\n",
       "         ('to', 'not'): 537,\n",
       "         ('with', 'all'): 536,\n",
       "         ('is', 'all'): 535,\n",
       "         ('the', 'top'): 535,\n",
       "         ('can', 'just'): 535,\n",
       "         ('might', 'be'): 532,\n",
       "         ('based', 'on'): 532,\n",
       "         ('the', 'fact'): 532,\n",
       "         ('and', 'he'): 531,\n",
       "         ('not', 'be'): 529,\n",
       "         ('has', 'no'): 529,\n",
       "         ('to', 'find'): 521,\n",
       "         ('you', 'must'): 520,\n",
       "         ('the', 'worst'): 516,\n",
       "         ('would', 'you'): 515,\n",
       "         ('wouldnt', 'be'): 514,\n",
       "         ('knows', 'that'): 513,\n",
       "         ('we', 'cant'): 513,\n",
       "         ('you', 'got'): 512,\n",
       "         ('when', 'it'): 512,\n",
       "         ('is', 'for'): 509,\n",
       "         ('why', 'we'): 509,\n",
       "         ('vote', 'for'): 508,\n",
       "         ('why', 'would'): 508,\n",
       "         ('what', 'about'): 508,\n",
       "         ('wrong', 'with'): 507,\n",
       "         ('we', 'know'): 507,\n",
       "         ('how', 'the'): 505,\n",
       "         ('am', 'i'): 505,\n",
       "         ('the', 'middle'): 504,\n",
       "         ('a', 'very'): 503,\n",
       "         ('hes', 'not'): 503,\n",
       "         ('with', 'his'): 503,\n",
       "         ('think', 'he'): 503,\n",
       "         ('and', 'is'): 502,\n",
       "         ('the', 'fuck'): 502,\n",
       "         ('but', 'they'): 502,\n",
       "         ('look', 'like'): 499,\n",
       "         ('makes', 'you'): 499,\n",
       "         ('he', 'just'): 499,\n",
       "         ('about', 'it'): 498,\n",
       "         ('to', 'help'): 497,\n",
       "         ('and', 'make'): 497,\n",
       "         ('sure', 'you'): 497,\n",
       "         ('just', 'dont'): 496,\n",
       "         ('of', 'us'): 496,\n",
       "         ('wait', 'to'): 496,\n",
       "         ('this', 'was'): 495,\n",
       "         ('with', 'no'): 495,\n",
       "         ('that', 'means'): 495,\n",
       "         ('can', 'you'): 494,\n",
       "         ('wont', 'be'): 493,\n",
       "         ('like', 'it'): 492,\n",
       "         ('we', 'just'): 491,\n",
       "         ('did', 'it'): 491,\n",
       "         ('he', 'should'): 490,\n",
       "         ('didnt', 'you'): 489,\n",
       "         ('this', 'game'): 489,\n",
       "         ('rid', 'of'): 488,\n",
       "         ('a', 'white'): 488,\n",
       "         ('they', 'cant'): 487,\n",
       "         ('me', 'to'): 487,\n",
       "         ('be', 'an'): 487,\n",
       "         ('say', 'that'): 484,\n",
       "         ('due', 'to'): 482,\n",
       "         ('why', 'i'): 482,\n",
       "         ('it', 'all'): 482,\n",
       "         ('is', 'definitely'): 482,\n",
       "         ('against', 'the'): 481,\n",
       "         ('only', 'one'): 481,\n",
       "         ('you', 'and'): 481,\n",
       "         ('for', 'you'): 480,\n",
       "         ('have', 'never'): 480,\n",
       "         ('who', 'is'): 480,\n",
       "         ('like', 'how'): 480,\n",
       "         ('need', 'more'): 479,\n",
       "         ('have', 'any'): 478,\n",
       "         ('i', 'love'): 477,\n",
       "         ('and', 'their'): 477,\n",
       "         ('after', 'the'): 477,\n",
       "         ('theres', 'a'): 477,\n",
       "         ('used', 'to'): 476,\n",
       "         ('just', 'the'): 475,\n",
       "         ('it', 'wasnt'): 474,\n",
       "         ('sort', 'of'): 474,\n",
       "         ('take', 'a'): 473,\n",
       "         ('then', 'you'): 472,\n",
       "         ('i', 'bet'): 472,\n",
       "         ('full', 'of'): 472,\n",
       "         ('you', 'do'): 472,\n",
       "         ('they', 'want'): 471,\n",
       "         ('is', 'still'): 470,\n",
       "         ('on', 'that'): 470,\n",
       "         ('to', 'show'): 467,\n",
       "         ('a', 'nice'): 466,\n",
       "         ('i', 'need'): 466,\n",
       "         ('just', 'to'): 464,\n",
       "         ('they', 'could'): 464,\n",
       "         ('and', 'your'): 464,\n",
       "         ('a', 'huge'): 463,\n",
       "         ('but', 'he'): 463,\n",
       "         ('why', 'you'): 462,\n",
       "         ('the', 'police'): 462,\n",
       "         ('i', 'see'): 461,\n",
       "         ('i', 'could'): 460,\n",
       "         ('its', 'only'): 458,\n",
       "         ('is', 'literally'): 457,\n",
       "         ('sure', 'this'): 457,\n",
       "         ('all', 'these'): 455,\n",
       "         ('so', 'well'): 455,\n",
       "         ('he', 'would'): 455,\n",
       "         ('your', 'own'): 455,\n",
       "         ('because', 'that'): 455,\n",
       "         ('it', 'with'): 454,\n",
       "         ('they', 'had'): 454,\n",
       "         ('think', 'the'): 454,\n",
       "         ('i', 'had'): 453,\n",
       "         ('that', 'doesnt'): 452,\n",
       "         ('thanks', 'for'): 451,\n",
       "         ('piece', 'of'): 451,\n",
       "         ('seems', 'like'): 451,\n",
       "         ('how', 'you'): 450,\n",
       "         ('to', 'my'): 450,\n",
       "         ('to', 'their'): 450,\n",
       "         ('he', 'had'): 449,\n",
       "         ('people', 'that'): 448,\n",
       "         ('never', 'seen'): 447,\n",
       "         ('seen', 'this'): 447,\n",
       "         ('before', 'the'): 446,\n",
       "         ('how', 'can'): 446,\n",
       "         ('sure', 'they'): 446,\n",
       "         ('worse', 'than'): 443,\n",
       "         ('someone', 'who'): 443,\n",
       "         ('to', 'this'): 442,\n",
       "         ('talk', 'about'): 442,\n",
       "         ('i', 'wonder'): 442,\n",
       "         ('thought', 'it'): 441,\n",
       "         ('why', 'the'): 441,\n",
       "         ('to', 'start'): 440,\n",
       "         ('people', 'dont'): 440,\n",
       "         ('to', 'me'): 439,\n",
       "         ('are', 'going'): 438,\n",
       "         ('they', 'do'): 438,\n",
       "         ('men', 'are'): 436,\n",
       "         ('a', 'bit'): 436,\n",
       "         ('thing', 'to'): 433,\n",
       "         ('this', 'sub'): 433,\n",
       "         ('away', 'from'): 432,\n",
       "         ('because', 'theyre'): 432,\n",
       "         ('thats', 'just'): 432,\n",
       "         ('guess', 'i'): 431,\n",
       "         ('mean', 'the'): 431,\n",
       "         ('with', 'my'): 431,\n",
       "         ('see', 'how'): 430,\n",
       "         ('we', 'get'): 430,\n",
       "         ('this', 'one'): 430,\n",
       "         ('amount', 'of'): 429,\n",
       "         ('you', 'would'): 428,\n",
       "         ('didnt', 'have'): 428,\n",
       "         ('but', 'it'): 428,\n",
       "         ('just', 'need'): 428,\n",
       "         ('think', 'that'): 427,\n",
       "         ('out', 'for'): 426,\n",
       "         ('what', 'we'): 426,\n",
       "         ('we', 'could'): 426,\n",
       "         ('listen', 'to'): 426,\n",
       "         ('will', 'get'): 425,\n",
       "         ('will', 'have'): 425,\n",
       "         ('sure', 'he'): 424,\n",
       "         ('im', 'a'): 424,\n",
       "         ('now', 'that'): 423,\n",
       "         ('totally', 'not'): 422,\n",
       "         ('that', 'its'): 421,\n",
       "         ('were', 'all'): 421,\n",
       "         ('that', 'has'): 420,\n",
       "         ('some', 'of'): 420,\n",
       "         ('that', 'this'): 420,\n",
       "         ('this', 'will'): 419,\n",
       "         ('up', 'in'): 419,\n",
       "         ('for', 'it'): 419,\n",
       "         ('theyre', 'not'): 417,\n",
       "         ('a', 'guy'): 416,\n",
       "         ('it', 'when'): 416,\n",
       "         ('only', 'a'): 416,\n",
       "         ('for', 'one'): 416,\n",
       "         ('good', 'for'): 416,\n",
       "         ('been', 'a'): 415,\n",
       "         ('people', 'and'): 415,\n",
       "         ('so', 'the'): 414,\n",
       "         ('only', 'the'): 414,\n",
       "         ('to', 'add'): 414,\n",
       "         ('what', 'he'): 414,\n",
       "         ('people', 'have'): 413,\n",
       "         ('do', 'the'): 413,\n",
       "         ('every', 'single'): 413,\n",
       "         ('why', 'they'): 412,\n",
       "         ('cant', 'believe'): 411,\n",
       "         ('to', 'win'): 411,\n",
       "         ('the', 'white'): 410,\n",
       "         ('of', 'it'): 410,\n",
       "         ('the', 'problem'): 410,\n",
       "         ('for', 'his'): 409,\n",
       "         ('when', 'we'): 409,\n",
       "         ('i', 'hate'): 409,\n",
       "         ('because', 'hes'): 409,\n",
       "         ('will', 'never'): 409,\n",
       "         ('as', 'you'): 409,\n",
       "         ('guy', 'who'): 409,\n",
       "         ('them', 'in'): 408,\n",
       "         ('it', 'a'): 406,\n",
       "         ('a', 'single'): 405,\n",
       "         ('because', 'all'): 405,\n",
       "         ('out', 'and'): 405,\n",
       "         ('reason', 'to'): 405,\n",
       "         ('was', 'in'): 404,\n",
       "         ('that', 'all'): 403,\n",
       "         ('for', 'my'): 403,\n",
       "         ('they', 'need'): 403,\n",
       "         ('to', 'you'): 402,\n",
       "         ('obviously', 'the'): 402,\n",
       "         ('heard', 'of'): 401,\n",
       "         ('as', 'if'): 401,\n",
       "         ('he', 'said'): 401,\n",
       "         ('money', 'to'): 401,\n",
       "         ('no', 'no'): 400,\n",
       "         ('end', 'of'): 400,\n",
       "         ('is', 'too'): 400,\n",
       "         ('and', 'just'): 399,\n",
       "         ('he', 'did'): 399,\n",
       "         ('is', 'better'): 399,\n",
       "         ('think', 'its'): 397,\n",
       "         ('are', 'no'): 396,\n",
       "         ('has', 'never'): 395,\n",
       "         ('of', 'these'): 395,\n",
       "         ('am', 'sure'): 395,\n",
       "         ('a', 'couple'): 395,\n",
       "         ('a', 'black'): 394,\n",
       "         ('makes', 'me'): 394,\n",
       "         ('they', 'get'): 394,\n",
       "         ('as', 'they'): 393,\n",
       "         ('is', 'this'): 392,\n",
       "         ('for', 'them'): 392,\n",
       "         ('to', 'think'): 392,\n",
       "         ('buy', 'a'): 392,\n",
       "         ('people', 'with'): 391,\n",
       "         ('thing', 'that'): 391,\n",
       "         ('lack', 'of'): 391,\n",
       "         ('to', 'live'): 391,\n",
       "         ('youre', 'just'): 390,\n",
       "         ('come', 'on'): 390,\n",
       "         ('i', 'feel'): 390,\n",
       "         ('because', 'thats'): 390,\n",
       "         ('has', 'nothing'): 389,\n",
       "         ('as', 'we'): 389,\n",
       "         ('it', 'isnt'): 388,\n",
       "         ('clearly', 'the'): 387,\n",
       "         ('just', 'as'): 387,\n",
       "         ('i', 'will'): 387,\n",
       "         ('such', 'an'): 387,\n",
       "         ('the', 'poor'): 386,\n",
       "         ('was', 'an'): 386,\n",
       "         ('of', 'you'): 384,\n",
       "         ('you', 'not'): 383,\n",
       "         ('shouldnt', 'be'): 383,\n",
       "         ('he', 'could'): 381,\n",
       "         ('way', 'of'): 381,\n",
       "         ('a', 'really'): 381,\n",
       "         ('are', 'always'): 380,\n",
       "         ('just', 'have'): 380,\n",
       "         ('how', 'many'): 380,\n",
       "         ('youre', 'saying'): 380,\n",
       "         ('obviously', 'a'): 379,\n",
       "         ('to', 'look'): 379,\n",
       "         ('know', 'about'): 379,\n",
       "         ('does', 'it'): 377,\n",
       "         ('a', 'different'): 377,\n",
       "         ('all', 'about'): 377,\n",
       "         ('cant', 'have'): 377,\n",
       "         ('with', 'this'): 376,\n",
       "         ('its', 'totally'): 376,\n",
       "         ('back', 'in'): 375,\n",
       "         ('none', 'of'): 375,\n",
       "         ('down', 'the'): 375,\n",
       "         ('were', 'the'): 375,\n",
       "         ('a', 'gun'): 375,\n",
       "         ('out', 'to'): 374,\n",
       "         ('are', 'in'): 374,\n",
       "         ('the', 'money'): 374,\n",
       "         ('it', 'up'): 373,\n",
       "         ('but', 'if'): 371,\n",
       "         ('and', 'thats'): 371,\n",
       "         ('where', 'the'): 371,\n",
       "         ('for', 'an'): 371,\n",
       "         ('have', 'you'): 370,\n",
       "         ('all', 'over'): 370,\n",
       "         ('just', 'be'): 370,\n",
       "         ('has', 'ever'): 369,\n",
       "         ('will', 'make'): 369,\n",
       "         ('and', 'his'): 369,\n",
       "         ('those', 'are'): 368,\n",
       "         ('not', 'even'): 368,\n",
       "         ('shes', 'a'): 368,\n",
       "         ('you', 'will'): 367,\n",
       "         ('no', 'idea'): 367,\n",
       "         ('what', 'youre'): 367,\n",
       "         ('now', 'i'): 367,\n",
       "         ('just', 'because'): 366,\n",
       "         ('read', 'the'): 366,\n",
       "         ('not', 'just'): 366,\n",
       "         ('through', 'the'): 365,\n",
       "         ('about', 'a'): 365,\n",
       "         ('the', 'wrong'): 365,\n",
       "         ('it', 'makes'): 363,\n",
       "         ('or', 'the'): 362,\n",
       "         ('know', 'i'): 362,\n",
       "         ('is', 'exactly'): 361,\n",
       "         ('to', 'protect'): 361,\n",
       "         ('sure', 'it'): 361,\n",
       "         ('in', 'an'): 360,\n",
       "         ('a', 'way'): 360,\n",
       "         ('its', 'because'): 360,\n",
       "         ('they', 'arent'): 360,\n",
       "         ('what', 'is'): 360,\n",
       "         ('any', 'of'): 359,\n",
       "         ('not', 'being'): 359,\n",
       "         ('and', 'no'): 358,\n",
       "         ('dont', 'even'): 358,\n",
       "         ('and', 'if'): 358,\n",
       "         ('think', 'they'): 358,\n",
       "         ('you', 'say'): 357,\n",
       "         ('at', 'this'): 357,\n",
       "         ('man', 'i'): 357,\n",
       "         ('the', 'ones'): 356,\n",
       "         ('a', 'fucking'): 356,\n",
       "         ('to', 'watch'): 356,\n",
       "         ('never', 'been'): 355,\n",
       "         ('to', 'come'): 355,\n",
       "         ('the', 'point'): 355,\n",
       "         ('us', 'to'): 354,\n",
       "         ('know', 'its'): 354,\n",
       "         ('what', 'if'): 354,\n",
       "         ('me', 'that'): 354,\n",
       "         ('take', 'the'): 354,\n",
       "         ('and', 'are'): 353,\n",
       "         ('are', 'totally'): 353,\n",
       "         ('a', 'whole'): 353,\n",
       "         ('is', 'actually'): 353,\n",
       "         ('the', 'reason'): 352,\n",
       "         ('guy', 'is'): 352,\n",
       "         ('of', 'an'): 352,\n",
       "         ('is', 'pretty'): 351,\n",
       "         ('thought', 'the'): 351,\n",
       "         ('just', 'so'): 351,\n",
       "         ('about', 'that'): 350,\n",
       "         ('didnt', 'get'): 350,\n",
       "         ('go', 'back'): 350,\n",
       "         ('cares', 'about'): 350,\n",
       "         ('be', 'more'): 349,\n",
       "         ('where', 'you'): 349,\n",
       "         ('that', 'guy'): 349,\n",
       "         ('not', 'have'): 349,\n",
       "         ('same', 'thing'): 348,\n",
       "         ('i', 'got'): 348,\n",
       "         ('for', 'me'): 347,\n",
       "         ('more', 'important'): 347,\n",
       "         ('them', 'and'): 346,\n",
       "         ('easy', 'to'): 346,\n",
       "         ('of', 'being'): 346,\n",
       "         ('and', 'im'): 345,\n",
       "         ('are', 'only'): 345,\n",
       "         ('hes', 'just'): 344,\n",
       "         ('one', 'is'): 344,\n",
       "         ('the', 'big'): 343,\n",
       "         ('i', 'do'): 343,\n",
       "         ('it', 'because'): 343,\n",
       "         ('does', 'not'): 343,\n",
       "         ('everyone', 'else'): 343,\n",
       "         ('cant', 'even'): 343,\n",
       "         ('him', 'for'): 343,\n",
       "         ('do', 'is'): 343,\n",
       "         ('so', 'obviously'): 342,\n",
       "         ('about', 'this'): 342,\n",
       "         ('at', 'it'): 342,\n",
       "         ('same', 'as'): 341,\n",
       "         ('got', 'the'): 340,\n",
       "         ('think', 'it'): 340,\n",
       "         ('had', 'the'): 340,\n",
       "         ('during', 'the'): 340,\n",
       "         ('mean', 'you'): 340,\n",
       "         ('get', 'rid'): 340,\n",
       "         ('as', 'an'): 339,\n",
       "         ('gonna', 'be'): 339,\n",
       "         ('in', 'order'): 339,\n",
       "         ('is', 'it'): 339,\n",
       "         ('those', 'people'): 339,\n",
       "         ('the', 'free'): 338,\n",
       "         ('know', 'if'): 337,\n",
       "         ('use', 'a'): 337,\n",
       "         ('him', 'a'): 337,\n",
       "         ('order', 'to'): 337,\n",
       "         ('do', 'anything'): 337,\n",
       "         ('wonder', 'why'): 337,\n",
       "         ('you', 'really'): 337,\n",
       "         ('exactly', 'the'): 336,\n",
       "         ('be', 'racist'): 336,\n",
       "         ('how', 'will'): 336,\n",
       "         ('see', 'a'): 336,\n",
       "         ('made', 'a'): 335,\n",
       "         ('like', 'he'): 335,\n",
       "         ('is', 'on'): 335,\n",
       "         ('you', 'arent'): 334,\n",
       "         ('up', 'a'): 334,\n",
       "         ('tell', 'you'): 333,\n",
       "         ('it', 'out'): 333,\n",
       "         ('up', 'on'): 333,\n",
       "         ('then', 'the'): 333,\n",
       "         ('agree', 'with'): 333,\n",
       "         ('like', 'an'): 332,\n",
       "         ('in', 'our'): 332,\n",
       "         ('be', 'on'): 332,\n",
       "         ('you', 'had'): 332,\n",
       "         ('had', 'no'): 331,\n",
       "         ('to', 'all'): 330,\n",
       "         ('sure', 'to'): 330,\n",
       "         ('as', 'much'): 330,\n",
       "         ('think', 'we'): 328,\n",
       "         ('can', 'have'): 328,\n",
       "         ('hope', 'you'): 328,\n",
       "         ('fuck', 'you'): 327,\n",
       "         ('think', 'i'): 327,\n",
       "         ('know', 'you'): 327,\n",
       "         ('youre', 'right'): 327,\n",
       "         ('so', 'hard'): 327,\n",
       "         ('was', 'going'): 326,\n",
       "         ('wonder', 'if'): 326,\n",
       "         ('with', 'an'): 326,\n",
       "         ('known', 'for'): 326,\n",
       "         ('and', 'dont'): 326,\n",
       "         ('them', 'for'): 325,\n",
       "         ('deal', 'with'): 325,\n",
       "         ('to', 'save'): 324,\n",
       "         ('but', 'we'): 324,\n",
       "         ('as', 'good'): 324,\n",
       "         ('feel', 'like'): 323,\n",
       "         ('should', 'get'): 323,\n",
       "         ('thought', 'that'): 323,\n",
       "         ('the', 'word'): 323,\n",
       "         ('good', 'at'): 322,\n",
       "         ('a', 'true'): 322,\n",
       "         ('they', 'did'): 322,\n",
       "         ('around', 'the'): 321,\n",
       "         ('get', 'that'): 321,\n",
       "         ('time', 'and'): 321,\n",
       "         ('to', 'vote'): 320,\n",
       "         ('put', 'a'): 320,\n",
       "         ('you', 'might'): 319,\n",
       "         ('doing', 'it'): 319,\n",
       "         ('everyone', 'is'): 319,\n",
       "         ('guys', 'are'): 318,\n",
       "         ('that', 'people'): 317,\n",
       "         ('even', 'more'): 317,\n",
       "         ('to', 'his'): 316,\n",
       "         ('make', 'them'): 316,\n",
       "         ('to', 'run'): 316,\n",
       "         ('reddit', 'is'): 316,\n",
       "         ('let', 'me'): 316,\n",
       "         ('i', 'never'): 315,\n",
       "         ('trump', 'is'): 315,\n",
       "         ('in', 'every'): 315,\n",
       "         ('cant', 'get'): 315,\n",
       "         ('a', 'small'): 315,\n",
       "         ('people', 'on'): 314,\n",
       "         ('most', 'of'): 314,\n",
       "         ('that', 'to'): 314,\n",
       "         ('that', 'in'): 313,\n",
       "         ('and', 'only'): 312,\n",
       "         ('down', 'to'): 312,\n",
       "         ('told', 'me'): 312,\n",
       "         ('can', 'tell'): 312,\n",
       "         ('we', 'got'): 312,\n",
       "         ('thousands', 'of'): 312,\n",
       "         ('the', 'past'): 312,\n",
       "         ('it', 'just'): 312,\n",
       "         ('let', 'the'): 312,\n",
       "         ('the', 'country'): 311,\n",
       "         ('lets', 'just'): 311,\n",
       "         ('example', 'of'): 311,\n",
       "         ('were', 'just'): 311,\n",
       "         ('how', 'could'): 310,\n",
       "         ('fault', 'for'): 310,\n",
       "         ('that', 'if'): 310,\n",
       "         ('a', 'terrible'): 310,\n",
       "         ('seem', 'to'): 310,\n",
       "         ...})"
      ]
     },
     "execution_count": 27,
     "metadata": {},
     "output_type": "execute_result"
    }
   ],
   "source": [
    "from collections import Counter\n",
    "from nltk import ngrams\n",
    "\n",
    "ngram_counts = Counter(ngrams(train1_df['comment'].to_json().split(), 2))\n",
    "ngram_counts"
   ]
  },
  {
   "cell_type": "code",
   "execution_count": 28,
   "metadata": {},
   "outputs": [
    {
     "data": {
      "text/plain": [
       "0     3\n",
       "1    14\n",
       "2    19\n",
       "3    12\n",
       "4     7\n",
       "Name: num_words, dtype: int64"
      ]
     },
     "execution_count": 28,
     "metadata": {},
     "output_type": "execute_result"
    }
   ],
   "source": [
    "# Number of words\n",
    "df['num_words'] = df['comment'].apply(lambda x: len(x.split()))\n",
    "df['num_words'].head()"
   ]
  },
  {
   "cell_type": "code",
   "execution_count": 29,
   "metadata": {},
   "outputs": [
    {
     "data": {
      "text/plain": [
       "0     3\n",
       "1    11\n",
       "2    19\n",
       "3    12\n",
       "4     7\n",
       "Name: num_words_unique, dtype: int64"
      ]
     },
     "execution_count": 29,
     "metadata": {},
     "output_type": "execute_result"
    }
   ],
   "source": [
    "# Number of words unique\n",
    "df['num_words_unique'] = df['comment'].apply(lambda x: len(set(x.split())))\n",
    "df['num_words_unique'].head()"
   ]
  },
  {
   "cell_type": "code",
   "execution_count": 30,
   "metadata": {},
   "outputs": [
    {
     "data": {
      "text/plain": [
       "0    0\n",
       "1    0\n",
       "2    0\n",
       "3    0\n",
       "4    0\n",
       "Name: num_words_case, dtype: int64"
      ]
     },
     "execution_count": 30,
     "metadata": {},
     "output_type": "execute_result"
    }
   ],
   "source": [
    "# Number of case words\n",
    "df['num_words_case'] = df['comment'].apply(lambda x: sum(1 for word in x.split() if word.isupper()))\n",
    "df['num_words_case'].head()"
   ]
  },
  {
   "cell_type": "code",
   "execution_count": null,
   "metadata": {},
   "outputs": [],
   "source": [
    "#sns.pairplot(df, vars=['num_words_unique', 'num_words_case'], hue='label', diag_kind='kde')\n",
    "#plt.show()"
   ]
  },
  {
   "cell_type": "markdown",
   "metadata": {},
   "source": [
    "## MODELO\n",
    "\n",
    "\n",
    "Build a Tf-Idf + logistic regression pipeline to predict sarcasm (`label`) based on the text of a comment on Reddit (`comment`)"
   ]
  },
  {
   "cell_type": "code",
   "execution_count": 31,
   "metadata": {},
   "outputs": [],
   "source": [
    "pipeline = Pipeline([\n",
    "    ('tfidf', TfidfVectorizer(ngram_range=(1,3), max_features=50000)),\n",
    "    ('lr', LogisticRegression(max_iter=1000))\n",
    "])\n",
    "\n",
    "pipeline.fit(X_train, y_train)\n",
    "\n",
    "y_pred = pipeline.predict(X_test)"
   ]
  },
  {
   "cell_type": "code",
   "execution_count": 33,
   "metadata": {},
   "outputs": [
    {
     "name": "stdout",
     "output_type": "stream",
     "text": [
      "0.722223046672108\n"
     ]
    }
   ],
   "source": [
    "# accuarcy\n",
    "print(accuracy_score(y_test, y_pred))"
   ]
  },
  {
   "cell_type": "code",
   "execution_count": 32,
   "metadata": {},
   "outputs": [],
   "source": [
    "from sklearn.metrics import classification_report, confusion_matrix"
   ]
  },
  {
   "cell_type": "code",
   "execution_count": 34,
   "metadata": {},
   "outputs": [
    {
     "name": "stdout",
     "output_type": "stream",
     "text": [
      "              precision    recall  f1-score   support\n",
      "\n",
      "           0       0.71      0.76      0.73    100905\n",
      "           1       0.74      0.69      0.71    101250\n",
      "\n",
      "    accuracy                           0.72    202155\n",
      "   macro avg       0.72      0.72      0.72    202155\n",
      "weighted avg       0.72      0.72      0.72    202155\n",
      "\n"
     ]
    }
   ],
   "source": [
    "print(classification_report(y_test, y_pred))"
   ]
  },
  {
   "cell_type": "code",
   "execution_count": 37,
   "metadata": {},
   "outputs": [
    {
     "name": "stdout",
     "output_type": "stream",
     "text": [
      "[[76575 24330]\n",
      " [31824 69426]]\n"
     ]
    }
   ],
   "source": [
    "# confusion matrix\n",
    "conf_mat= confusion_matrix(y_test, y_pred)\n",
    "print(confusion_matrix(y_test, y_pred))"
   ]
  },
  {
   "cell_type": "code",
   "execution_count": 44,
   "metadata": {},
   "outputs": [
    {
     "data": {
      "text/plain": [
       "<Axes: >"
      ]
     },
     "execution_count": 44,
     "metadata": {},
     "output_type": "execute_result"
    },
    {
     "data": {
      "image/png": "[encoded data removed]",
      "text/plain": [
       "<Figure size 640x480 with 2 Axes>"
      ]
     },
     "metadata": {},
     "output_type": "display_data"
    }
   ],
   "source": [
    "sns.heatmap(conf_mat, annot=True,fmt='.1f')"
   ]
  },
  {
   "cell_type": "code",
   "execution_count": null,
   "metadata": {},
   "outputs": [],
   "source": [
    "#pip install eli5"
   ]
  },
  {
   "cell_type": "code",
   "execution_count": null,
   "metadata": {},
   "outputs": [],
   "source": [
    "import eli5"
   ]
  },
  {
   "cell_type": "code",
   "execution_count": null,
   "metadata": {},
   "outputs": [],
   "source": [
    "eli5.show_weights(estimator=pipeline.named_steps['log_reg'],\n",
    "                  vec=pipeline.named_steps['tf_idf'],\n",
    "                  top = 50)"
   ]
  },
  {
   "cell_type": "code",
   "execution_count": null,
   "metadata": {},
   "outputs": [],
   "source": []
  }
 ],
 "metadata": {
  "kernelspec": {
   "display_name": "Python 3.9.13 64-bit (microsoft store)",
   "language": "python",
   "name": "python3"
  },
  "language_info": {
   "codemirror_mode": {
    "name": "ipython",
    "version": 3
   },
   "file_extension": ".py",
   "mimetype": "text/x-python",
   "name": "python",
   "nbconvert_exporter": "python",
   "pygments_lexer": "ipython3",
   "version": "3.10.14"
  },
  "vscode": {
   "interpreter": {
    "hash": "b7f22e608a9410c9a00adbb49e3cb6a72010c497ae6b30c9496ff58de178a89c"
   }
  }
 },
 "nbformat": 4,
 "nbformat_minor": 4
}
